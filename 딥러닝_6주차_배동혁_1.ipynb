{
 "cells": [
  {
   "cell_type": "markdown",
   "id": "1ccfc97c-11d3-4897-95d3-9baed4de00cc",
   "metadata": {},
   "source": [
    "# **Chapter 5.오차역전파법**\n",
    "# **5.4 단순한 계층 구현하기**\n",
    "# **5.5 활성화 함수 계층 구현하기**\n",
    "# **5.6 Affine/Softmax 계층 구현하기**\n",
    "# **5.7 오차역전파법 구현하기**"
   ]
  },
  {
   "cell_type": "markdown",
   "id": "fb705109-4fc6-4cbf-b402-e172ef04690e",
   "metadata": {},
   "source": [
    "## 곱셈 계층 : 역전파법에서 x,y 바꿔서 곱함"
   ]
  },
  {
   "cell_type": "code",
   "execution_count": 1,
   "id": "b11e0e74-43db-4169-807a-82667776341f",
   "metadata": {},
   "outputs": [],
   "source": [
    "class MulLayer:\n",
    "    def __init__(self):\n",
    "        self.x=None\n",
    "        self.y=None\n",
    "\n",
    "    def forward(self,x,y):\n",
    "        self.x=x\n",
    "        self.y=y\n",
    "        out=x*y\n",
    "\n",
    "        return out\n",
    "\n",
    "    def backward(self,dout):\n",
    "        dx=dout*self.y\n",
    "        dy=dout*self.x\n",
    "\n",
    "        return dx,dy"
   ]
  },
  {
   "cell_type": "code",
   "execution_count": 2,
   "id": "298abe89-1cab-405e-a358-d38ee83cd0fd",
   "metadata": {},
   "outputs": [],
   "source": [
    "apple=100\n",
    "apple_num=2\n",
    "tax=1.1\n",
    "\n",
    "mul_apple_layer = MulLayer()\n",
    "mul_tax_layer=MulLayer()"
   ]
  },
  {
   "cell_type": "markdown",
   "id": "2a751572-7199-479a-af24-71fa240bc1ef",
   "metadata": {},
   "source": [
    "## 순전파법"
   ]
  },
  {
   "cell_type": "code",
   "execution_count": 3,
   "id": "51522d65-64c4-4df2-814e-bed24e2bfcc0",
   "metadata": {},
   "outputs": [
    {
     "name": "stdout",
     "output_type": "stream",
     "text": [
      "220.00000000000003\n"
     ]
    }
   ],
   "source": [
    "apple_price = mul_apple_layer.forward(apple,apple_num)\n",
    "price = mul_tax_layer.forward(apple_price,tax)\n",
    "\n",
    "print(price)"
   ]
  },
  {
   "cell_type": "markdown",
   "id": "78e4491b-3431-479a-8e2a-ade3ab7fff96",
   "metadata": {},
   "source": [
    "## 역전파법"
   ]
  },
  {
   "cell_type": "code",
   "execution_count": 4,
   "id": "c12477d9-b87a-4fed-b76f-d37e8381beab",
   "metadata": {},
   "outputs": [
    {
     "name": "stdout",
     "output_type": "stream",
     "text": [
      "2.2 110.00000000000001 200\n"
     ]
    }
   ],
   "source": [
    "dprice=1\n",
    "dapple_price, dtax = mul_tax_layer.backward(dprice)\n",
    "dapple,dapple_num = mul_apple_layer.backward(dapple_price)\n",
    "\n",
    "print(dapple,dapple_num,dtax)"
   ]
  },
  {
   "cell_type": "markdown",
   "id": "8db80c8b-fdfe-4560-b627-bf59efc2477e",
   "metadata": {},
   "source": [
    "## 덧셈 계층 : 미분하면 1"
   ]
  },
  {
   "cell_type": "code",
   "execution_count": 5,
   "id": "a77a2479-8090-438f-abee-8e54d902dae2",
   "metadata": {},
   "outputs": [],
   "source": [
    "class AddLayer:\n",
    "    def __init__(self):\n",
    "        pass\n",
    "\n",
    "    def forward(self,x,y):\n",
    "        out=x+y\n",
    "\n",
    "        return out\n",
    "\n",
    "    def backward(self,dout):\n",
    "        dx=dout*1\n",
    "        dy=dout*1\n",
    "\n",
    "        return dx,dy"
   ]
  },
  {
   "cell_type": "code",
   "execution_count": 6,
   "id": "7d9cf471-8945-4dca-88aa-5fce4c9a9bea",
   "metadata": {},
   "outputs": [
    {
     "name": "stdout",
     "output_type": "stream",
     "text": [
      "price: 715\n",
      "dApple: 2.2\n",
      "dApple_num: 110\n",
      "dOrange: 3.3000000000000003\n",
      "dOrange_num: 165\n",
      "dTax: 650\n"
     ]
    }
   ],
   "source": [
    "apple = 100\n",
    "apple_num = 2\n",
    "orange = 150\n",
    "orange_num = 3\n",
    "tax = 1.1\n",
    "\n",
    "# layer\n",
    "mul_apple_layer = MulLayer()\n",
    "mul_orange_layer = MulLayer()\n",
    "add_apple_orange_layer = AddLayer()\n",
    "mul_tax_layer = MulLayer()\n",
    "\n",
    "# forward\n",
    "apple_price = mul_apple_layer.forward(apple, apple_num)  # (1)\n",
    "orange_price = mul_orange_layer.forward(orange, orange_num)  # (2)\n",
    "all_price = add_apple_orange_layer.forward(apple_price, orange_price)  # (3)\n",
    "price = mul_tax_layer.forward(all_price, tax)  # (4)\n",
    "\n",
    "# backward\n",
    "dprice = 1\n",
    "dall_price, dtax = mul_tax_layer.backward(dprice)  # (4)\n",
    "dapple_price, dorange_price = add_apple_orange_layer.backward(dall_price)  # (3)\n",
    "dorange, dorange_num = mul_orange_layer.backward(dorange_price)  # (2)\n",
    "dapple, dapple_num = mul_apple_layer.backward(dapple_price)  # (1)\n",
    "\n",
    "print(\"price:\", int(price))\n",
    "print(\"dApple:\", dapple)\n",
    "print(\"dApple_num:\", int(dapple_num))\n",
    "print(\"dOrange:\", dorange)\n",
    "print(\"dOrange_num:\", int(dorange_num))\n",
    "print(\"dTax:\", dtax)"
   ]
  },
  {
   "cell_type": "markdown",
   "id": "2401b21a-db49-49b5-91a8-bacdd361f073",
   "metadata": {},
   "source": [
    "# ReLu 계층"
   ]
  },
  {
   "cell_type": "code",
   "execution_count": 7,
   "id": "803f35aa-1186-4e42-8f44-06bb0d3e445d",
   "metadata": {},
   "outputs": [],
   "source": [
    "class Relu:\n",
    "    def __init__(self):\n",
    "        self.mask=None\n",
    "\n",
    "    def forward(self,x):\n",
    "        self.mask=(x<=0)\n",
    "        out = x.copy()\n",
    "        out[self.mask]=0\n",
    "        return out\n",
    "\n",
    "    def backward(self,dout):\n",
    "        dout[self.mask] = 0\n",
    "        dx=dout\n",
    "        return dx"
   ]
  },
  {
   "cell_type": "code",
   "execution_count": 8,
   "id": "954114ad-6502-45fb-8911-6f06397906aa",
   "metadata": {},
   "outputs": [
    {
     "name": "stdout",
     "output_type": "stream",
     "text": [
      "[[ 1.   1.5]\n",
      " [-2.   3. ]]\n",
      "[[False False]\n",
      " [ True False]]\n"
     ]
    }
   ],
   "source": [
    "import numpy as np\n",
    "x = np.array([[1.0,1.5],[-2.0,3.0]])\n",
    "print(x)\n",
    "mask=(x<=0)\n",
    "print(mask)"
   ]
  },
  {
   "cell_type": "markdown",
   "id": "aa1b0dce-2e72-4895-a8b1-7fc587a88f99",
   "metadata": {},
   "source": [
    "# Sigmoid 계층"
   ]
  },
  {
   "cell_type": "code",
   "execution_count": 9,
   "id": "a0bf1ac6-d2e5-4446-93f9-0b9e042d2dd4",
   "metadata": {},
   "outputs": [],
   "source": [
    "class Sigmoid:\n",
    "    def __init__(self):\n",
    "        self.out = None\n",
    "\n",
    "    def forward(self, x):\n",
    "        out = sigmoid(x)\n",
    "        self.out = out\n",
    "        return out\n",
    "\n",
    "    def backward(self, dout):\n",
    "        dx = dout * (1.0 - self.out) * self.out\n",
    "\n",
    "        return dx"
   ]
  },
  {
   "cell_type": "markdown",
   "id": "8fbbe31b-d62c-4ef5-8926-d8410e4c8c0b",
   "metadata": {},
   "source": [
    "# Affine 계층 (행렬)"
   ]
  },
  {
   "cell_type": "code",
   "execution_count": 10,
   "id": "f845b287-dcc6-41bb-92d2-516f08ce3baa",
   "metadata": {},
   "outputs": [
    {
     "name": "stdout",
     "output_type": "stream",
     "text": [
      "(2,)\n",
      "(2, 3)\n",
      "(3,)\n"
     ]
    }
   ],
   "source": [
    "X=np.random.rand(2)\n",
    "W=np.random.rand(2,3)\n",
    "B=np.random.rand(3)\n",
    "\n",
    "print(X.shape)\n",
    "print(W.shape)\n",
    "print(B.shape)\n",
    "\n",
    "Y=np.dot(X,W)+B"
   ]
  },
  {
   "cell_type": "code",
   "execution_count": 11,
   "id": "edde1c42-7b79-483c-ac32-fd951c8ccdeb",
   "metadata": {},
   "outputs": [
    {
     "name": "stdout",
     "output_type": "stream",
     "text": [
      "[[ 1  2  3]\n",
      " [11 12 13]]\n"
     ]
    }
   ],
   "source": [
    "X_dot_W = np.array([[0,0,0],[10,10,10]])\n",
    "B = np.array([1,2,3])\n",
    "print(X_dot_W+B)"
   ]
  },
  {
   "cell_type": "code",
   "execution_count": 12,
   "id": "355b268b-45e7-4f6c-bb90-f413a10d3f3d",
   "metadata": {},
   "outputs": [
    {
     "name": "stdout",
     "output_type": "stream",
     "text": [
      "[5 7 9]\n"
     ]
    }
   ],
   "source": [
    "dY = np.array([[1,2,3],[4,5,6]])\n",
    "dB = np.sum(dY,axis=0)\n",
    "print(dB)"
   ]
  },
  {
   "cell_type": "code",
   "execution_count": 13,
   "id": "40bffc2d-d765-4583-9914-0b219831a902",
   "metadata": {},
   "outputs": [],
   "source": [
    "class Affine:\n",
    "    def __init__(self,W,b):\n",
    "        self.W=W\n",
    "        self.b=b\n",
    "        self.x=None\n",
    "        self.dW=None\n",
    "        self.db=None\n",
    "\n",
    "    def forward(self,x):\n",
    "        self.x=x\n",
    "        out=np.dot(x,self.W)+self.b\n",
    "\n",
    "        return out\n",
    "\n",
    "    def backward(self,dout):\n",
    "        dx = np.dot(dout,self.W.T)\n",
    "        self.dW = np.dot(self.x.T,dout)\n",
    "        self.db = np.sum(dout,axis=0)\n",
    "\n",
    "        return dx"
   ]
  },
  {
   "cell_type": "markdown",
   "id": "df7b7407-f488-45a4-9381-2117cf39d0a7",
   "metadata": {},
   "source": [
    "# Softmax-with-Loss 계층"
   ]
  },
  {
   "cell_type": "markdown",
   "id": "4daec5a3-0e6a-4c45-b797-831545240fe4",
   "metadata": {},
   "source": [
    "softmax 함수 : exp(입력값) / exp(입력값) 전체의 합  \n",
    "softmax(zi): i번째 클래스에 대한 확률 출력  \n",
    "모든 출력값의 합은 1 (확률 분포의 성질)  \n",
    "입력값 중 큰 값일수록 더 높은 확률로 변환됨  \n",
    "출력값은 0~1 사이의 값  \n",
    "소프트맥스 계층을 구현할 때 손실 함수인 교차 엔트로피 오차 포함하여 Softmax-with-Loss 계층이라는 이름으로 구현"
   ]
  },
  {
   "cell_type": "code",
   "execution_count": 14,
   "id": "ec6682c1-8e0d-4f22-8686-e702dbe620f1",
   "metadata": {},
   "outputs": [],
   "source": [
    "class SoftmaxWithLoss:\n",
    "    def __init__(self):\n",
    "        self.loss=None\n",
    "        self.y=None\n",
    "        self.t=None\n",
    "\n",
    "    def forward(self,x,t):\n",
    "        self.t=t\n",
    "        self.y=softmax(x)\n",
    "        self.loss=cross_entropy_error(self.y,self.t)\n",
    "        return self.loss\n",
    "\n",
    "    def backward(self,dout=1):\n",
    "        batch_size = self.t.shape[0]\n",
    "        dx = (self.y-self.t)/batch_size\n",
    "\n",
    "        return dx"
   ]
  },
  {
   "cell_type": "markdown",
   "id": "c866d039-8735-48ba-be48-930321f5f800",
   "metadata": {},
   "source": [
    "# 오차역전파법을 적용한 신경망 구현\n",
    "1. 미니배치 : 훈련 데이터 중 일부를 무작위로 가져온다. 이 미니배치의 손실 함수 값을 줄이는 것이 목표  \n",
    "2. 기울기 산출 : 미니배치의 손실 함수 값을 줄이기 위해 각 가중치 매개변수의 기울기 구함. (여기서 오차역전파법 사용)  \n",
    "3. 매개변수 갱신  \n",
    "4. 반복  "
   ]
  },
  {
   "cell_type": "code",
   "execution_count": 15,
   "id": "0f2171e7-58da-4cff-861d-7cfa63ea7dc3",
   "metadata": {},
   "outputs": [],
   "source": [
    "class Relu:\n",
    "    def __init__(self):\n",
    "        self.mask=None\n",
    "\n",
    "    def forward(self,x):\n",
    "        self.mask=(x<=0)\n",
    "        out = x.copy()\n",
    "        out[self.mask]=0\n",
    "        return out\n",
    "\n",
    "    def backward(self,dout):\n",
    "        dout[self.mask] = 0\n",
    "        dx=dout\n",
    "        return dx\n",
    "\n",
    "\n",
    "class Affine:\n",
    "    def __init__(self,W,b):\n",
    "        self.W=W\n",
    "        self.b=b\n",
    "        self.x=None\n",
    "        self.dW=None\n",
    "        self.db=None\n",
    "\n",
    "    def forward(self,x):\n",
    "        self.x=x\n",
    "        out=np.dot(x,self.W)+self.b\n",
    "\n",
    "        return out\n",
    "\n",
    "    def backward(self,dout):\n",
    "        dx = np.dot(dout,self.W.T)\n",
    "        self.dW = np.dot(self.x.T,dout)\n",
    "        self.db = np.sum(dout,axis=0)\n",
    "\n",
    "        return dx\n",
    "\n",
    "\n",
    "class SoftmaxWithLoss:\n",
    "    def __init__(self):\n",
    "        self.loss=None\n",
    "        self.y=None\n",
    "        self.t=None\n",
    "\n",
    "    def forward(self,x,t):\n",
    "        self.t=t\n",
    "        self.y=softmax(x)\n",
    "        self.loss=cross_entropy_error(self.y,self.t)\n",
    "        return self.loss\n",
    "\n",
    "    def backward(self,dout=1):\n",
    "        batch_size = self.t.shape[0]\n",
    "        dx = (self.y-self.t)/batch_size\n",
    "\n",
    "        return dx"
   ]
  },
  {
   "cell_type": "code",
   "execution_count": 16,
   "id": "9937bd00-35f6-42e1-91b9-207ab57afc66",
   "metadata": {},
   "outputs": [],
   "source": [
    "import sys, os\n",
    "import numpy as np\n",
    "from common.layers import Affine, Relu, SoftmaxWithLoss\n",
    "from common.gradient import numerical_gradient\n",
    "# 파이썬에서 OrderedDict 자료구조 사용 (입력된 순서를 기억하는 딕셔너리)\n",
    "from collections import OrderedDict\n",
    "\n",
    "\n",
    "class TwoLayerNet:\n",
    "# 구조: (Affine1 → ReLU) → (Affine2 → SoftmaxWithLoss)\n",
    "    \n",
    "    def __init__(self, input_size, hidden_size, output_size, weight_init_std = 0.01):\n",
    "        # 가중치 초기화\n",
    "        self.params = {}\n",
    "        self.params['W1'] = weight_init_std * np.random.randn(input_size, hidden_size)\n",
    "        self.params['b1'] = np.zeros(hidden_size)\n",
    "        self.params['W2'] = weight_init_std * np.random.randn(hidden_size, output_size) \n",
    "        self.params['b2'] = np.zeros(output_size)\n",
    "\n",
    "        # 계층 생성\n",
    "        self.layers = OrderedDict()\n",
    "        self.layers['Affine1'] = Affine(self.params['W1'], self.params['b1'])\n",
    "        self.layers['Relu1'] = Relu()\n",
    "        self.layers['Affine2'] = Affine(self.params['W2'], self.params['b2'])\n",
    "\n",
    "        self.lastLayer = SoftmaxWithLoss()\n",
    "        \n",
    "    def predict(self, x):\n",
    "        for layer in self.layers.values():\n",
    "            x = layer.forward(x)\n",
    "        \n",
    "        return x\n",
    "        \n",
    "    # x : 입력 데이터, t : 정답 레이블\n",
    "    def loss(self, x, t):\n",
    "        y = self.predict(x)\n",
    "        return self.lastLayer.forward(y, t)\n",
    "    \n",
    "    def accuracy(self, x, t):\n",
    "        y = self.predict(x)\n",
    "        y = np.argmax(y, axis=1) # 확률이 가장 큰 y값 선택\n",
    "        if t.ndim != 1 : t = np.argmax(t, axis=1) # 가장 큰 t값 선택\n",
    "        \n",
    "        accuracy = np.sum(y == t) / float(x.shape[0])\n",
    "        return accuracy\n",
    "        \n",
    "    # x : 입력 데이터, t : 정답 레이블\n",
    "    def numerical_gradient(self, x, t):\n",
    "        loss_W = lambda W: self.loss(x, t)\n",
    "        \n",
    "        grads = {}\n",
    "        grads['W1'] = numerical_gradient(loss_W, self.params['W1'])\n",
    "        grads['b1'] = numerical_gradient(loss_W, self.params['b1'])\n",
    "        grads['W2'] = numerical_gradient(loss_W, self.params['W2'])\n",
    "        grads['b2'] = numerical_gradient(loss_W, self.params['b2'])\n",
    "        \n",
    "        return grads\n",
    "        \n",
    "    def gradient(self, x, t):\n",
    "        # forward\n",
    "        self.loss(x, t)\n",
    "\n",
    "        # backward\n",
    "        dout = 1\n",
    "        dout = self.lastLayer.backward(dout)\n",
    "        \n",
    "        layers = list(self.layers.values())\n",
    "        layers.reverse()\n",
    "        for layer in layers:\n",
    "            dout = layer.backward(dout)\n",
    "\n",
    "        # 결과 저장\n",
    "        grads = {}\n",
    "        grads['W1'], grads['b1'] = self.layers['Affine1'].dW, self.layers['Affine1'].db\n",
    "        grads['W2'], grads['b2'] = self.layers['Affine2'].dW, self.layers['Affine2'].db\n",
    "\n",
    "        return grads"
   ]
  },
  {
   "cell_type": "code",
   "execution_count": 22,
   "id": "6a6fbe6c-55c1-4d74-ac15-b283d587e494",
   "metadata": {},
   "outputs": [
    {
     "name": "stdout",
     "output_type": "stream",
     "text": [
      "W1:7.555367395781029e-08\n",
      "b1:8.60824698151806e-07\n",
      "W2:7.17901771718426e-09\n",
      "b2:1.4060312683306097e-07\n"
     ]
    }
   ],
   "source": [
    "import sys, os\n",
    "sys.path.append(os.pardir)\n",
    "from dataset.mnist import load_mnist\n",
    "\n",
    "(x_train, t_train),(x_test,t_test) = load_mnist(normalize=True,one_hot_label=True)\n",
    "\n",
    "network = TwoLayerNet(input_size=784, hidden_size=50, output_size=10)\n",
    "\n",
    "x_batch = x_train[:3]\n",
    "t_batch = t_train[:3]\n",
    "\n",
    "grad_numerical = network.numerical_gradient(x_batch,t_batch)\n",
    "grad_backprop = network.gradient(x_batch,t_batch)\n",
    "\n",
    "for key in grad_numerical.keys():\n",
    "    diff = np.average(np.abs(grad_backprop[key]-grad_numerical[key]))\n",
    "    print(key + \":\" + str(diff))"
   ]
  },
  {
   "cell_type": "code",
   "execution_count": null,
   "id": "a22ae76b-78c9-4da7-b389-97a795f3ed61",
   "metadata": {},
   "outputs": [],
   "source": []
  }
 ],
 "metadata": {
  "kernelspec": {
   "display_name": "Python 3 (ipykernel)",
   "language": "python",
   "name": "python3"
  },
  "language_info": {
   "codemirror_mode": {
    "name": "ipython",
    "version": 3
   },
   "file_extension": ".py",
   "mimetype": "text/x-python",
   "name": "python",
   "nbconvert_exporter": "python",
   "pygments_lexer": "ipython3",
   "version": "3.12.3"
  }
 },
 "nbformat": 4,
 "nbformat_minor": 5
}
