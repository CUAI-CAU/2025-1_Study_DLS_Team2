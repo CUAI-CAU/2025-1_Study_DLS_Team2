{
 "cells": [
  {
   "cell_type": "markdown",
   "id": "92560c7a-2b6c-464d-875c-0a9e80eb9c29",
   "metadata": {},
   "source": [
    "# 합성곱 신경망 (CNN, convolutional neural network)"
   ]
  },
  {
   "cell_type": "markdown",
   "id": "3f6c8a7d-fd10-4faf-9401-882aa5d01dc1",
   "metadata": {},
   "source": [
    "# 합성곱 계층"
   ]
  },
  {
   "cell_type": "markdown",
   "id": "ba73f330-b5d6-4c50-a262-2c479ae065ff",
   "metadata": {
    "jp-MarkdownHeadingCollapsed": true
   },
   "source": [
    "#### CNN vs 완전연결 계층\n",
    "완전 연결 계층은 **데이터의 형상이 무시**된다.<br>\n",
    "이미지는 가로, 세로, 채널로 이루어져있는 3차원 데이터이므로 인접한 픽셀끼리는 공간적 의미가 비슷할 수밖에 없다.<br>\n",
    "CNN의 입출력 데이터를 **feature map**이라고 부른다."
   ]
  },
  {
   "cell_type": "markdown",
   "id": "f8a7b500-7440-415e-98b1-c0491f8a865d",
   "metadata": {},
   "source": [
    "### 합성곱 연산(필터 연산)\n",
    "단일 곱셈-누산: 입력 feature map에서 윈도우를 일정한 간격으로 이동해가며 필터를 적용한다. 출력 featurm map이 생긴다.<br>\n",
    "CNN의 필터 매개변수가 완전연결 계층의 가중치 매개변수, 편향의 역할을 한다."
   ]
  },
  {
   "cell_type": "markdown",
   "id": "8576fac6-8a47-4cf9-9f35-f69cb333cbe9",
   "metadata": {},
   "source": [
    "### 패딩\n",
    "덧대기<br>\n",
    "입력 feature map의 주변에 0을 덧댄다. 주로 출력 shape을 조정할 목적으로 사용.<br>\n",
    "합성곱 연산을 거듭하다가 shape이 1이 되는 것을 미연에 방지하기 위함"
   ]
  },
  {
   "cell_type": "markdown",
   "id": "74fd0fc3-bde6-4ebb-b1bd-031d7d47120d",
   "metadata": {},
   "source": [
    "### 스트라이드\n",
    "보폭, 윈도우가 이동하는 일정한 간격을 조정한다.<br>\n",
    "출력의 크기가 줄어든다."
   ]
  },
  {
   "cell_type": "markdown",
   "id": "61ea5c52-d2ef-4eac-9a2a-83837ccc3e6e",
   "metadata": {},
   "source": [
    "## 3차원 데이터의 필터 연산\n",
    "(가로, 세로, 채널)의 3차원 **input feature map의 채널 수 = 필터의 채널 수**<br>\n",
    "=> output feature map의 채널 = 1 <br>\n",
    "**출력의 채널 수**는 **필터의 개수**로 조정한다.<br>\n",
    "따라서 필터는 (필터 개수, 채널, 가로, 세로) 4차원 데이터"
   ]
  },
  {
   "cell_type": "markdown",
   "id": "c2d8c735-cdaf-4150-b7a2-92df130643ba",
   "metadata": {},
   "source": [
    "### 배치 처리\n",
    "input feature map 여러 개를 한 번에 묶는다.\n",
    "- feature map 형상: (데이터 수, 채널 수, 가로, 세로)\n",
    "- filter 형상: (필터 수, 채널 수, 가로, 세로)"
   ]
  },
  {
   "cell_type": "markdown",
   "id": "24292800-3a75-4848-bb13-ab5e17dc685f",
   "metadata": {},
   "source": [
    "# 풀링 계층"
   ]
  },
  {
   "cell_type": "markdown",
   "id": "5e544bbb-8544-4b94-b778-51203f3f190d",
   "metadata": {},
   "source": [
    "풀링 윈도우가 스트라이드 만큼 이동하면서 윈도우 내부의 원소 중 최대 or 평균 원소를 출력한다. -> 가로, 세로를 축소시킴"
   ]
  },
  {
   "cell_type": "markdown",
   "id": "c14d5da1-0cac-44e6-bae4-7ef52692c665",
   "metadata": {},
   "source": [
    "# 7.4 합성곱/풀링 계층 구현하기"
   ]
  },
  {
   "cell_type": "code",
   "execution_count": 1,
   "id": "2fdd7135-1c4c-40ef-9a0d-f3a8829bac50",
   "metadata": {},
   "outputs": [
    {
     "data": {
      "text/plain": [
       "(10, 1, 28, 28)"
      ]
     },
     "execution_count": 1,
     "metadata": {},
     "output_type": "execute_result"
    }
   ],
   "source": [
    "import numpy as np\n",
    "x = np.random.rand(10,1,28,28) # (데이터 수, 채널 수, 가로, 세로)\n",
    "x.shape"
   ]
  },
  {
   "cell_type": "code",
   "execution_count": 2,
   "id": "eb71b787-7185-4566-a154-2dfdddb39c86",
   "metadata": {},
   "outputs": [
    {
     "data": {
      "text/plain": [
       "(1, 28, 28)"
      ]
     },
     "execution_count": 2,
     "metadata": {},
     "output_type": "execute_result"
    }
   ],
   "source": [
    "x[0].shape # 첫 번째 데이터"
   ]
  },
  {
   "cell_type": "code",
   "execution_count": 3,
   "id": "33ea8289-f0f9-4da4-9262-882f2a337676",
   "metadata": {},
   "outputs": [
    {
     "data": {
      "text/plain": [
       "(28, 28)"
      ]
     },
     "execution_count": 3,
     "metadata": {},
     "output_type": "execute_result"
    }
   ],
   "source": [
    "x[0,0].shape # 첫 번째 데이터의 첫 번째 채널"
   ]
  },
  {
   "cell_type": "markdown",
   "id": "db0c0cb7-1ff1-4966-a4d6-3b02aedccb6f",
   "metadata": {},
   "source": [
    "### im2col\n",
    "이미지를 column으로"
   ]
  },
  {
   "cell_type": "code",
   "execution_count": 4,
   "id": "00e73a9a-4cfd-49fa-b771-c80f13d1a1bb",
   "metadata": {},
   "outputs": [],
   "source": [
    "def im2col(input_data, filter_h, filter_w, stride=1, pad=0):\n",
    "    \"\"\"다수의 이미지를 입력받아 2차원 배열로 변환한다(평탄화).\n",
    "    \n",
    "    Parameters\n",
    "    ----------\n",
    "    input_data : 4차원 배열 형태의 입력 데이터(이미지 수, 채널 수, 높이, 너비)\n",
    "    filter_h : 필터의 높이\n",
    "    filter_w : 필터의 너비\n",
    "    stride : 스트라이드\n",
    "    pad : 패딩\n",
    "    \n",
    "    Returns\n",
    "    -------\n",
    "    col : 2차원 배열\n",
    "    \"\"\"\n",
    "    N, C, H, W = input_data.shape\n",
    "    out_h = (H + 2*pad - filter_h)//stride + 1\n",
    "    out_w = (W + 2*pad - filter_w)//stride + 1\n",
    "\n",
    "    img = np.pad(input_data, [(0,0), (0,0), (pad, pad), (pad, pad)], 'constant')\n",
    "    col = np.zeros((N, C, filter_h, filter_w, out_h, out_w))\n",
    "\n",
    "    for y in range(filter_h):\n",
    "        y_max = y + stride*out_h\n",
    "        for x in range(filter_w):\n",
    "            x_max = x + stride*out_w\n",
    "            col[:, :, y, x, :, :] = img[:, :, y:y_max:stride, x:x_max:stride]\n",
    "\n",
    "    col = col.transpose(0, 4, 5, 1, 2, 3).reshape(N*out_h*out_w, -1)\n",
    "    return col"
   ]
  },
  {
   "cell_type": "code",
   "execution_count": 5,
   "id": "c163c5fc-944b-4bc3-a281-d6b009dca2fc",
   "metadata": {},
   "outputs": [
    {
     "name": "stdout",
     "output_type": "stream",
     "text": [
      "(9, 75)\n"
     ]
    }
   ],
   "source": [
    "x1 = np.random.rand(1,3,7,7)\n",
    "col1 = im2col(x1, 5,5,stride=1, pad=0)\n",
    "print(col1.shape)"
   ]
  },
  {
   "cell_type": "code",
   "execution_count": 6,
   "id": "b682cc54-b421-41c2-8dfd-cf2d1b501c37",
   "metadata": {},
   "outputs": [
    {
     "name": "stdout",
     "output_type": "stream",
     "text": [
      "(90, 75)\n"
     ]
    }
   ],
   "source": [
    "x2 = np.random.rand(10,3,7,7)\n",
    "col2 = im2col(x2, 5,5, stride=1, pad=0)\n",
    "print(col2.shape)"
   ]
  },
  {
   "cell_type": "markdown",
   "id": "eb50abbc-75d2-4984-af04-63a407843b05",
   "metadata": {},
   "source": [
    "채널[0]의 원소들 + 채널[1]의 원소들 + 채널[2]의 원소들 = 75차원"
   ]
  },
  {
   "cell_type": "code",
   "execution_count": 7,
   "id": "0c78d564-e28f-4b8c-a75e-1c98cd652426",
   "metadata": {},
   "outputs": [],
   "source": [
    "# 합성곱 계층 구현하기\n",
    "class Convoution:\n",
    "    def __init__(self, W, b, stride=1, pad=0):\n",
    "        self.W=W\n",
    "        self.b=b\n",
    "        self.stride = stride\n",
    "        self.pad=pad\n",
    "\n",
    "    def forward(self, x):\n",
    "        FN, C, FH, FW = self.W.shape\n",
    "        N, C, H, W = x.shape\n",
    "        out_h = int(1+(H+2*self.pad-FH)/self.stride)\n",
    "        out_w = int(1+(W+2*self.pad-FW)/self.stride)\n",
    "\n",
    "        col = im2col(x, FH, FW, self.stride, self.pad)\n",
    "        col_W = self.W.reshape(FN, -1).T # 필터 전개\n",
    "        out = np.dot(col, col_W) + self.b\n",
    "        \n",
    "        out = out.reshape(N, out_h, out_w, -1).transpose(0,3,1,2)\n",
    "        \n",
    "        return out"
   ]
  },
  {
   "cell_type": "markdown",
   "id": "0c45553b-a095-460d-8f04-c0ddc921e86f",
   "metadata": {},
   "source": [
    "- 풀링 계층 구현하기<br>\n",
    "입력 데이터를 전개 -> 최댓값 나열 -> reshape"
   ]
  },
  {
   "cell_type": "code",
   "execution_count": 8,
   "id": "50e9fbf8-770c-44bb-b83e-61838db6899c",
   "metadata": {},
   "outputs": [],
   "source": [
    "class Pooling:\n",
    "    def __init__(self, pool_h, pool_w, stride=1, pad=0):\n",
    "        self.pool_h = pool_h\n",
    "        self.pool_w = pool_w\n",
    "        self.stride = stride\n",
    "        self.pad = pad\n",
    "        \n",
    "        self.x = None\n",
    "        self.arg_max = None\n",
    "\n",
    "    def forward(self, x):\n",
    "        N, C, H, W = x.shape\n",
    "        out_h = int(1 + (H - self.pool_h) / self.stride)\n",
    "        out_w = int(1 + (W - self.pool_w) / self.stride)\n",
    "\n",
    "        col = im2col(x, self.pool_h, self.pool_w, self.stride, self.pad)\n",
    "        col = col.reshape(-1, self.pool_h*self.pool_w)\n",
    "\n",
    "        arg_max = np.argmax(col, axis=1)\n",
    "        out = np.max(col, axis=1)\n",
    "        out = out.reshape(N, out_h, out_w, C).transpose(0, 3, 1, 2)\n",
    "\n",
    "        self.x = x\n",
    "        self.arg_max = arg_max\n",
    "\n",
    "        return out"
   ]
  },
  {
   "cell_type": "markdown",
   "id": "87e55f4c-496f-44d5-9b79-5f40d7b83c04",
   "metadata": {},
   "source": [
    "# 7.5 CNN 구현하기  "
   ]
  },
  {
   "cell_type": "code",
   "execution_count": 12,
   "id": "53ea71f0-1bbe-4e66-a80d-81eddc406e7c",
   "metadata": {},
   "outputs": [],
   "source": [
    "class SimpleConvNet:\n",
    "    def __init__(self, input_dim=(1,28,28), \n",
    "                 conv_param={'filter_num': 30, 'filter_size':5, 'pad':0, 'stride':1}, \n",
    "                 hidden_size=100, output_size=10, weight_init_std=0.01):\n",
    "        filter_num = conv_param['filter_num']\n",
    "        filter_size = conv_param['filter_size']\n",
    "        filter_pad = conv_param['pad']\n",
    "        filter_stride = conv_param['stride']\n",
    "        input_size = input_dim[1]\n",
    "        conv_output_size = (input_size - filter_size + 2*filter_pad)/filter_strdie + 1\n",
    "        pool_output_size = int(filter_num*(conv_output_size/2)*(conv_output_size/2))\n",
    "\n",
    "        # 매개변수 초기화\n",
    "        self.params={}\n",
    "        self.params['W1'] = weight_init_std*np.random.randn(filter_num, input_dim[0], filter_size, filter_size)\n",
    "        self.params['b1'] = np.zeros(filter_num)\n",
    "        self.params['W2'] = weight_init_std * np.random.randn(pool_output_size, hidden_size)\n",
    "        self.params['b2'] = np.zeros(hidden_size)\n",
    "        self.params['W3'] = weight_init_std * np.random.randn(hidden_size, output_size)\n",
    "        self.params['b3'] = np.zeros(output_size)\n",
    "\n",
    "        # 계층 생성\n",
    "        self.layers = OrderedDict()\n",
    "        self.layers['Conv1'] = Convolution(self.params['W1'], self.params['b1'],\n",
    "                                           conv_param['stride'], conv_param['pad'])\n",
    "        self.layers['Relu1'] = Relu()\n",
    "        self.layers['Pool1'] = Pooling(pool_h=2, pool_w=2, stride=2)\n",
    "        self.layers['Affine1'] = Affine(self.params['W2'], self.params['b2'])\n",
    "        self.layers['Relu2'] = Relu()\n",
    "        self.layers['Affine2'] = Affine(self.params['W3'], self.params['b3'])\n",
    "\n",
    "        self.last_layer = SoftmaxWithLoss()\n",
    "\n",
    "    def predict(self, x):\n",
    "        for layer in self.layers.values():\n",
    "            x = layer.forward(x)\n",
    "        return x\n",
    "\n",
    "    def loss(self, x, t):\n",
    "        y = self.predict(x)\n",
    "        return self.last_layer.forward(y, t)\n",
    "\n",
    "    def gradient(self, x, t):\n",
    "        # 순전파\n",
    "        self.loss(x, t)\n",
    "\n",
    "        # 역전파\n",
    "        dout = 1\n",
    "        dout = self.last_layer.backward(dout)\n",
    "\n",
    "        layers = list(self.layers.values())\n",
    "        layer.reverse()\n",
    "        for layer in layers:\n",
    "            dout = layer.backward(dout)\n",
    "\n",
    "        # 결과 저장\n",
    "        grads={}\n",
    "        grads['W1'], grads['b1'] = self.layers['Conv1'].dW, self.layers['Conv1'].db\n",
    "        grads['W2'], grads['b2'] = self.layers['Affine1'].dW, self.layers['Affine1'].db\n",
    "        grads['W3'], grads['b3'] = self.layers['Affine2'].dW, self.layers['Affine2'].db"
   ]
  }
 ],
 "metadata": {
  "kernelspec": {
   "display_name": "Python 3 (ipykernel)",
   "language": "python",
   "name": "python3"
  },
  "language_info": {
   "codemirror_mode": {
    "name": "ipython",
    "version": 3
   },
   "file_extension": ".py",
   "mimetype": "text/x-python",
   "name": "python",
   "nbconvert_exporter": "python",
   "pygments_lexer": "ipython3",
   "version": "3.12.7"
  }
 },
 "nbformat": 4,
 "nbformat_minor": 5
}
