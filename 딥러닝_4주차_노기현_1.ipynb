{
 "cells": [
  {
   "cell_type": "markdown",
   "id": "8ab3da0f-5f12-4445-b472-d70813058123",
   "metadata": {},
   "source": [
    "# 3.5 출력층 설계하기\n",
    "- 회귀: 보통 출력층의 뉴런 수가 한 개이므로 항등함수를 사용한다.\n",
    "- 분류: 데이터가 어느 클래스에 속하는지 다루기 때문에 소프트맥스 함수를 사용한다."
   ]
  },
  {
   "cell_type": "markdown",
   "id": "f7221cc8-9661-43ad-9362-3b198b19b01e",
   "metadata": {},
   "source": [
    "소프트맥스 함수 구현"
   ]
  },
  {
   "cell_type": "code",
   "execution_count": 1,
   "id": "90324b89-f007-4bb7-aa37-ed3bf17f25b6",
   "metadata": {},
   "outputs": [],
   "source": [
    "import numpy as np"
   ]
  },
  {
   "cell_type": "code",
   "execution_count": 2,
   "id": "3d46beee-c5a2-402e-9234-fea5892bfa55",
   "metadata": {},
   "outputs": [
    {
     "name": "stdout",
     "output_type": "stream",
     "text": [
      "[ 1.34985881 18.17414537 54.59815003]\n"
     ]
    }
   ],
   "source": [
    "a=np.array([0.3, 2.9, 4.0])\n",
    "exp_a=np.exp(a)\n",
    "print(exp_a)"
   ]
  },
  {
   "cell_type": "code",
   "execution_count": 3,
   "id": "eaf680f2-280a-468d-bfdd-9cec93699a5d",
   "metadata": {},
   "outputs": [
    {
     "name": "stdout",
     "output_type": "stream",
     "text": [
      "74.1221542101633\n"
     ]
    }
   ],
   "source": [
    "sum_exp_a=np.sum(exp_a)\n",
    "print(sum_exp_a)"
   ]
  },
  {
   "cell_type": "code",
   "execution_count": 4,
   "id": "466f4f7c-e98d-4475-9869-5b7b9d1e23cc",
   "metadata": {},
   "outputs": [
    {
     "name": "stdout",
     "output_type": "stream",
     "text": [
      "[0.01821127 0.24519181 0.73659691]\n"
     ]
    }
   ],
   "source": [
    "y=exp_a/sum_exp_a\n",
    "print(y)"
   ]
  },
  {
   "cell_type": "code",
   "execution_count": 5,
   "id": "2edba025-c201-4b44-99ee-11c22b323687",
   "metadata": {},
   "outputs": [],
   "source": [
    "# 사용자 정의 함수로 구현\n",
    "def softmax(a):\n",
    "    exp_a=np.exp(a)\n",
    "    sum_exp_a=np.exp(exp_a)\n",
    "    y=exp_a/sum_exp_a\n",
    "    return y"
   ]
  },
  {
   "cell_type": "markdown",
   "id": "2452e488-e56f-4b56-821f-21372e2447ab",
   "metadata": {},
   "source": [
    "소프트맥스 함수 구현 시 주의점<br>\n",
    "exponential에 큰 값을 넣으면 오버플로우가 발생할 우려가 있다."
   ]
  },
  {
   "cell_type": "code",
   "execution_count": 6,
   "id": "b43415ed-893f-474a-8471-be523427995c",
   "metadata": {},
   "outputs": [
    {
     "name": "stderr",
     "output_type": "stream",
     "text": [
      "C:\\Users\\kikio\\AppData\\Local\\Temp\\ipykernel_3564\\369000715.py:2: RuntimeWarning: overflow encountered in exp\n",
      "  np.exp(a)/np.sum(np.exp(a))\n",
      "C:\\Users\\kikio\\AppData\\Local\\Temp\\ipykernel_3564\\369000715.py:2: RuntimeWarning: invalid value encountered in divide\n",
      "  np.exp(a)/np.sum(np.exp(a))\n"
     ]
    },
    {
     "data": {
      "text/plain": [
       "array([nan, nan, nan])"
      ]
     },
     "execution_count": 6,
     "metadata": {},
     "output_type": "execute_result"
    }
   ],
   "source": [
    "a=np.array([1010, 1000, 990])\n",
    "np.exp(a)/np.sum(np.exp(a))"
   ]
  },
  {
   "cell_type": "code",
   "execution_count": 7,
   "id": "d0f11768-9c3e-4530-a319-55fea8b8a713",
   "metadata": {},
   "outputs": [
    {
     "data": {
      "text/plain": [
       "array([  0, -10, -20])"
      ]
     },
     "execution_count": 7,
     "metadata": {},
     "output_type": "execute_result"
    }
   ],
   "source": [
    "c=np.max(a)\n",
    "a-c"
   ]
  },
  {
   "cell_type": "code",
   "execution_count": 8,
   "id": "75199991-3035-4df0-84f1-839e1a0088f0",
   "metadata": {},
   "outputs": [
    {
     "data": {
      "text/plain": [
       "array([9.99954600e-01, 4.53978686e-05, 2.06106005e-09])"
      ]
     },
     "execution_count": 8,
     "metadata": {},
     "output_type": "execute_result"
    }
   ],
   "source": [
    "np.exp(a-c)/np.sum(np.exp(a-c)) # 입력값 중 최댓값을 입력에 빼줌으로써 지수함수가 커지는 것을 방지한다."
   ]
  },
  {
   "cell_type": "code",
   "execution_count": 9,
   "id": "c913e90a-fb4f-4b01-b420-3d3c7344a4d1",
   "metadata": {},
   "outputs": [],
   "source": [
    "def softmax(a):\n",
    "    c=np.max(a)\n",
    "    exp_a=np.exp(a-c) # 오버플로우 대책\n",
    "    sum_exp_a=np.sum(exp_a)\n",
    "    y=exp_a/sum_exp_a\n",
    "    return y"
   ]
  },
  {
   "cell_type": "markdown",
   "id": "46389df1-909d-464e-8fb6-59907544c389",
   "metadata": {},
   "source": [
    "소프트맥스 함수의 출력 총합은 1이다. 이를 활용해 문제를 확률적으로 대응할 수도 있다."
   ]
  },
  {
   "cell_type": "code",
   "execution_count": 10,
   "id": "9d6a632c-44f6-4978-88da-d9ac2327d99c",
   "metadata": {},
   "outputs": [
    {
     "name": "stdout",
     "output_type": "stream",
     "text": [
      "[0.01821127 0.24519181 0.73659691]\n"
     ]
    }
   ],
   "source": [
    "a=np.array([0.3, 2.9, 4.0])\n",
    "y=softmax(a)\n",
    "print(y)"
   ]
  },
  {
   "cell_type": "code",
   "execution_count": 11,
   "id": "3fa0ea30-ea4c-4133-9d87-89f7d692a2e4",
   "metadata": {},
   "outputs": [
    {
     "data": {
      "text/plain": [
       "1.0"
      ]
     },
     "execution_count": 11,
     "metadata": {},
     "output_type": "execute_result"
    }
   ],
   "source": [
    "np.sum(y)"
   ]
  },
  {
   "cell_type": "markdown",
   "id": "5cd426a1-2170-40a0-ac36-b7667a132910",
   "metadata": {},
   "source": [
    "# 3.6 손글씨 숫자 인식"
   ]
  },
  {
   "cell_type": "code",
   "execution_count": 12,
   "id": "a9a56285-29c0-4b19-977c-e518bfa3ed95",
   "metadata": {
    "scrolled": true
   },
   "outputs": [
    {
     "name": "stdout",
     "output_type": "stream",
     "text": [
      "(60000, 784)\n",
      "(60000,)\n",
      "(10000, 784)\n",
      "(10000,)\n"
     ]
    }
   ],
   "source": [
    "from mnist_original import load_mnist # 현재 디렉토리에 저장해서 사용\n",
    "    \n",
    "(x_train, t_train), (x_test, t_test) = load_mnist(flatten=True, normalize=False) \n",
    "# flatten은 입력 이미지를 1차원으로, normalize는 이미지 픽셀을 0~1값으로 정규화할지, one-hot-label은 원핫인코딩을 할지 결정한다.\n",
    "\n",
    "print(x_train.shape)\n",
    "print(t_train.shape)\n",
    "print(x_test.shape)\n",
    "print(t_test.shape)"
   ]
  },
  {
   "cell_type": "code",
   "execution_count": 13,
   "id": "6178c7f1-bfbc-4c21-9ea4-a75348750054",
   "metadata": {},
   "outputs": [
    {
     "name": "stdout",
     "output_type": "stream",
     "text": [
      "5\n",
      "(784,)\n",
      "(28, 28)\n"
     ]
    }
   ],
   "source": [
    "import numpy as np\n",
    "from PIL import Image\n",
    "\n",
    "def img_show(img):\n",
    "    pil_img=Image.fromarray(np.uint8(img))\n",
    "    pil_img.show()\n",
    "\n",
    "img = x_train[0]\n",
    "label = t_train[0]\n",
    "print(label)\n",
    "\n",
    "print(img.shape)\n",
    "img=img.reshape(28,28) # 원래 이미지 모양으로 변형한다. 784 = 28 X 28\n",
    "print(img.shape)\n",
    "\n",
    "img_show(img)"
   ]
  },
  {
   "cell_type": "markdown",
   "id": "9d7d5ada-0ddb-4d43-b634-3ba5ec2a63d4",
   "metadata": {},
   "source": [
    "### 신경망의 추론 처리\n",
    "- 입력층 뉴런 수: 28 x 28 = 784 개\n",
    "- 출력층 뉴런 수: 숫자 0~9이므로 10 개"
   ]
  },
  {
   "cell_type": "markdown",
   "id": "2351729a-0b64-4756-ae63-35039cc4d759",
   "metadata": {},
   "source": [
    "은닉층은 총 2개로 첫 번째 은닉층 뉴런 수는 50, 두 번째 은닉층 뉴런 수는 100 (임의로 설정한 값이다)"
   ]
  },
  {
   "cell_type": "code",
   "execution_count": 14,
   "id": "400c7e73-1568-4a76-a738-fbf8b72e6497",
   "metadata": {},
   "outputs": [],
   "source": [
    "def get_data():\n",
    "    (x_train, t_train), (x_test, t_test)= load_mnist(normalize =True, flatten=True, one_hot_label=False)\n",
    "    return x_test, t_test\n",
    "\n",
    "def init_network():\n",
    "    with open(\"sample_weight.pkl\", 'rb') as f: # 학습된 가중치가 저장되어 있는 pickle 파일을 불러온다.\n",
    "        network = pickle.load(f)\n",
    "        return network\n",
    "\n",
    "def predict(network, x):\n",
    "    W1, W2, W3 = network['W1'], network['W2'], network['W3']\n",
    "    b1, b2, b3 = network['b1'], network['b2'], network['b3']\n",
    "    \n",
    "    a1 = np.dot(x, W1)+b1\n",
    "    z1 = sigmoid(a1)\n",
    "    a2 = np.dot(z1, W2)+b2\n",
    "    z2 = sigmoid(a2)\n",
    "    a3 = np.dot(z2, W3)+b3\n",
    "    y=softmax(a3)\n",
    "    \n",
    "    return y"
   ]
  },
  {
   "cell_type": "code",
   "execution_count": 22,
   "id": "d3909552-e85d-4619-8f01-5b69561a0013",
   "metadata": {},
   "outputs": [
    {
     "ename": "FileNotFoundError",
     "evalue": "[Errno 2] No such file or directory: 'sample_weight.pkl'",
     "output_type": "error",
     "traceback": [
      "\u001b[1;31m---------------------------------------------------------------------------\u001b[0m",
      "\u001b[1;31mFileNotFoundError\u001b[0m                         Traceback (most recent call last)",
      "Cell \u001b[1;32mIn[22], line 2\u001b[0m\n\u001b[0;32m      1\u001b[0m x, t \u001b[38;5;241m=\u001b[39m get_data()\n\u001b[1;32m----> 2\u001b[0m network \u001b[38;5;241m=\u001b[39m init_network()\n\u001b[0;32m      4\u001b[0m accuracy_cnt\u001b[38;5;241m=\u001b[39m\u001b[38;5;241m0\u001b[39m\n\u001b[0;32m      5\u001b[0m \u001b[38;5;28;01mfor\u001b[39;00m i \u001b[38;5;129;01min\u001b[39;00m \u001b[38;5;28mrange\u001b[39m(\u001b[38;5;28mlen\u001b[39m(x)):\n",
      "Cell \u001b[1;32mIn[14], line 6\u001b[0m, in \u001b[0;36minit_network\u001b[1;34m()\u001b[0m\n\u001b[0;32m      5\u001b[0m \u001b[38;5;28;01mdef\u001b[39;00m \u001b[38;5;21minit_network\u001b[39m():\n\u001b[1;32m----> 6\u001b[0m     \u001b[38;5;28;01mwith\u001b[39;00m \u001b[38;5;28mopen\u001b[39m(\u001b[38;5;124m\"\u001b[39m\u001b[38;5;124msample_weight.pkl\u001b[39m\u001b[38;5;124m\"\u001b[39m, \u001b[38;5;124m'\u001b[39m\u001b[38;5;124mrb\u001b[39m\u001b[38;5;124m'\u001b[39m) \u001b[38;5;28;01mas\u001b[39;00m f: \u001b[38;5;66;03m# 학습된 가중치가 저장되어 있는 pickle 파일을 불러온다.\u001b[39;00m\n\u001b[0;32m      7\u001b[0m         network \u001b[38;5;241m=\u001b[39m pickle\u001b[38;5;241m.\u001b[39mload(f)\n\u001b[0;32m      8\u001b[0m         \u001b[38;5;28;01mreturn\u001b[39;00m network\n",
      "File \u001b[1;32m~\\anaconda3\\Lib\\site-packages\\IPython\\core\\interactiveshell.py:324\u001b[0m, in \u001b[0;36m_modified_open\u001b[1;34m(file, *args, **kwargs)\u001b[0m\n\u001b[0;32m    317\u001b[0m \u001b[38;5;28;01mif\u001b[39;00m file \u001b[38;5;129;01min\u001b[39;00m {\u001b[38;5;241m0\u001b[39m, \u001b[38;5;241m1\u001b[39m, \u001b[38;5;241m2\u001b[39m}:\n\u001b[0;32m    318\u001b[0m     \u001b[38;5;28;01mraise\u001b[39;00m \u001b[38;5;167;01mValueError\u001b[39;00m(\n\u001b[0;32m    319\u001b[0m         \u001b[38;5;124mf\u001b[39m\u001b[38;5;124m\"\u001b[39m\u001b[38;5;124mIPython won\u001b[39m\u001b[38;5;124m'\u001b[39m\u001b[38;5;124mt let you open fd=\u001b[39m\u001b[38;5;132;01m{\u001b[39;00mfile\u001b[38;5;132;01m}\u001b[39;00m\u001b[38;5;124m by default \u001b[39m\u001b[38;5;124m\"\u001b[39m\n\u001b[0;32m    320\u001b[0m         \u001b[38;5;124m\"\u001b[39m\u001b[38;5;124mas it is likely to crash IPython. If you know what you are doing, \u001b[39m\u001b[38;5;124m\"\u001b[39m\n\u001b[0;32m    321\u001b[0m         \u001b[38;5;124m\"\u001b[39m\u001b[38;5;124myou can use builtins\u001b[39m\u001b[38;5;124m'\u001b[39m\u001b[38;5;124m open.\u001b[39m\u001b[38;5;124m\"\u001b[39m\n\u001b[0;32m    322\u001b[0m     )\n\u001b[1;32m--> 324\u001b[0m \u001b[38;5;28;01mreturn\u001b[39;00m io_open(file, \u001b[38;5;241m*\u001b[39margs, \u001b[38;5;241m*\u001b[39m\u001b[38;5;241m*\u001b[39mkwargs)\n",
      "\u001b[1;31mFileNotFoundError\u001b[0m: [Errno 2] No such file or directory: 'sample_weight.pkl'"
     ]
    }
   ],
   "source": [
    "x, t = get_data()\n",
    "network = init_network()\n",
    "\n",
    "accuracy_cnt=0\n",
    "for i in range(len(x)):\n",
    "    y = predict(network, x[i]) # x[i]에는 784개의 입력이 재재, y에는 10개의 확률에 대한 출력이 존재\n",
    "    p = np.argmax(y) # 그 중에서 가장 높은 확률의 출력을 선택한다.\n",
    "    if p==t[i]: # t_train값과 일치하면 count\n",
    "        accuracy_cnt += 1\n",
    "\n",
    "print(\"Accuracy:\" + str(float(accuracy_cnt)/len(x)))"
   ]
  },
  {
   "cell_type": "markdown",
   "id": "3f83777e-7515-4ab7-8d61-78b7c2830d2d",
   "metadata": {},
   "source": [
    "### 배치 처리"
   ]
  },
  {
   "cell_type": "code",
   "execution_count": 16,
   "id": "d0037965-3c0d-419b-b983-56b5cbe61970",
   "metadata": {},
   "outputs": [],
   "source": [
    "#x, _ = get_data()\n",
    "#network=init_network()\n",
    "#w1, w2, w3 = network['w1'], network['w2'], network['w3']\n",
    "\n",
    "#x.shape\n",
    "#x[0].shape # (784, 0)\n",
    "#w1.shape # (784, 50) 각 층의 뉴런 수와 일치\n",
    "#w2.shape # (50, 100)\n",
    "#w3.shape # (100, 10)"
   ]
  },
  {
   "cell_type": "code",
   "execution_count": 17,
   "id": "4ac93c5b-15a5-4892-9155-863f64bc554e",
   "metadata": {},
   "outputs": [],
   "source": [
    "#x, t= get_data()\n",
    "#network=init_network()\n",
    "\n",
    "#batch_size=100\n",
    "#accuracy_cnt=0\n",
    "\n",
    "#for i in range(0, len(x), batch_size):\n",
    "#    x_batch=x[i:i+batch_size]\n",
    "#    y_natch=predict(network, x_batch)\n",
    "#    p=np.argmax(y_batch, axis=1)\n",
    "#    accuracy_cnt+=np.sum(p==t[i:i+batch_size])\n",
    "\n",
    "#print(\"Accuracy:\" + str(float(accuracy_cnt/len(x))"
   ]
  },
  {
   "cell_type": "code",
   "execution_count": 18,
   "id": "86f709d9-d442-4185-9199-709629fd3414",
   "metadata": {},
   "outputs": [
    {
     "data": {
      "text/plain": [
       "[0, 1, 2, 3, 4, 5, 6, 7, 8, 9]"
      ]
     },
     "execution_count": 18,
     "metadata": {},
     "output_type": "execute_result"
    }
   ],
   "source": [
    "list(range(0, 10))"
   ]
  },
  {
   "cell_type": "code",
   "execution_count": 19,
   "id": "083d287c-6626-4b50-8796-df3ba99dfb3e",
   "metadata": {},
   "outputs": [
    {
     "data": {
      "text/plain": [
       "[0, 3, 6, 9]"
      ]
     },
     "execution_count": 19,
     "metadata": {},
     "output_type": "execute_result"
    }
   ],
   "source": [
    "list(range(0,10,3))"
   ]
  },
  {
   "cell_type": "code",
   "execution_count": 20,
   "id": "d3d23c7c-c523-4a2d-bbe7-83de3478bb4e",
   "metadata": {},
   "outputs": [
    {
     "name": "stdout",
     "output_type": "stream",
     "text": [
      "[1 2 1 0]\n"
     ]
    }
   ],
   "source": [
    "x=np.array([[0.1,0.8,0.1],[0.3,0.1,0.6],[0.2,0.5,0.3],[0.8,0.1,0.1]])\n",
    "y=np.argmax(x,axis=1)\n",
    "print(y)"
   ]
  },
  {
   "cell_type": "code",
   "execution_count": 21,
   "id": "a12aa6e4-6243-4e36-bbf3-3edac7e3901b",
   "metadata": {},
   "outputs": [
    {
     "name": "stdout",
     "output_type": "stream",
     "text": [
      "[ True  True False  True]\n"
     ]
    },
    {
     "data": {
      "text/plain": [
       "3"
      ]
     },
     "execution_count": 21,
     "metadata": {},
     "output_type": "execute_result"
    }
   ],
   "source": [
    "y=np.array([1,2,1,0])\n",
    "t=np.array([1,2,0,0])\n",
    "print(y==t)\n",
    "np.sum(y==t)"
   ]
  }
 ],
 "metadata": {
  "kernelspec": {
   "display_name": "Python 3 (ipykernel)",
   "language": "python",
   "name": "python3"
  },
  "language_info": {
   "codemirror_mode": {
    "name": "ipython",
    "version": 3
   },
   "file_extension": ".py",
   "mimetype": "text/x-python",
   "name": "python",
   "nbconvert_exporter": "python",
   "pygments_lexer": "ipython3",
   "version": "3.12.7"
  }
 },
 "nbformat": 4,
 "nbformat_minor": 5
}
