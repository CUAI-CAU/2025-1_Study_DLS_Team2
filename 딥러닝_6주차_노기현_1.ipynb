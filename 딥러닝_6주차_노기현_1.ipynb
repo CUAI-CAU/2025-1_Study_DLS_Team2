{
 "cells": [
  {
   "cell_type": "markdown",
   "id": "9d6380c3-1aab-4d7a-b978-5cf24158a269",
   "metadata": {},
   "source": [
    "# 5.4 단순한 계층 구현하기\n",
    "- 곱셈 노드: MulLayer\n",
    "- 덧셈 노드: AddLayer"
   ]
  },
  {
   "cell_type": "markdown",
   "id": "7dbb8626-fabf-4211-bcb4-c7505b8c110d",
   "metadata": {},
   "source": [
    "곱셈 계층"
   ]
  },
  {
   "cell_type": "code",
   "execution_count": 1,
   "id": "53914741-c8f1-49f2-86ef-1fe3dfe122cc",
   "metadata": {},
   "outputs": [],
   "source": [
    "class MulLayer:\n",
    "    def __init(self):\n",
    "        self.x = None\n",
    "        slef.y = None\n",
    "\n",
    "    def forward(self, x, y): # 순전파\n",
    "        self.x = x\n",
    "        self.y = y\n",
    "        out = x*y\n",
    "        return out\n",
    "\n",
    "    def backward(self, dout): # 역전파\n",
    "        dx = dout*self.y\n",
    "        dy = dout*self.x\n",
    "        return dx, dy"
   ]
  },
  {
   "cell_type": "code",
   "execution_count": 2,
   "id": "407c8a89-48ee-4ef5-bc57-09939dc70831",
   "metadata": {},
   "outputs": [
    {
     "name": "stdout",
     "output_type": "stream",
     "text": [
      "220.00000000000003\n"
     ]
    }
   ],
   "source": [
    "apple = 100\n",
    "apple_num = 2\n",
    "tax = 1.1\n",
    "\n",
    "# 계층들\n",
    "mul_apple_layer = MulLayer()\n",
    "mul_tax_layer = MulLayer()\n",
    "\n",
    "# 순전파\n",
    "apple_price = mul_apple_layer.forward(apple, apple_num)\n",
    "price = mul_tax_layer.forward(apple_price, tax)\n",
    "\n",
    "print(price)"
   ]
  },
  {
   "cell_type": "code",
   "execution_count": 3,
   "id": "076b87d9-b9c7-4e7f-becb-ac85147b9647",
   "metadata": {},
   "outputs": [
    {
     "name": "stdout",
     "output_type": "stream",
     "text": [
      "2.2 110.00000000000001 200\n"
     ]
    }
   ],
   "source": [
    "# 역전파\n",
    "dprice=1\n",
    "dapple_price, dtax = mul_tax_layer.backward(dprice) # 입력한 순서대로 넣어야 한다.\n",
    "dapple, dapple_num = mul_apple_layer.backward(dapple_price)\n",
    "\n",
    "print(dapple, dapple_num, dtax)"
   ]
  },
  {
   "cell_type": "markdown",
   "id": "1c312093-0ac8-442c-94da-46be606a54c9",
   "metadata": {},
   "source": [
    "덧셈 계층\n"
   ]
  },
  {
   "cell_type": "code",
   "execution_count": 4,
   "id": "253b2ff1-d177-4bf1-9459-a4fc077568ba",
   "metadata": {},
   "outputs": [],
   "source": [
    "class AddLayer:\n",
    "    def __init__(self):\n",
    "        pass\n",
    "    def forward(self, x, y):\n",
    "        out = x + y\n",
    "        return out\n",
    "    \n",
    "    def backward(self, dout):\n",
    "        dx = dout * 1\n",
    "        dy = dout * 1\n",
    "        return dx, dy"
   ]
  },
  {
   "cell_type": "code",
   "execution_count": 5,
   "id": "c7b76e88-d83b-4603-8de6-a2ab340e44ca",
   "metadata": {},
   "outputs": [
    {
     "name": "stdout",
     "output_type": "stream",
     "text": [
      "2.2 110.00000000000001 3.3000000000000003 165.0 650\n"
     ]
    }
   ],
   "source": [
    "apple = 100\n",
    "orange = 150\n",
    "apple_num = 2\n",
    "orange_num = 3\n",
    "tax = 1.1\n",
    "\n",
    "# 계층들\n",
    "mul_apple_layer = MulLayer()  # 한 층마다 하나의 MulLayer()이 아니라, 노드마다 하나씩 필요하다.\n",
    "mul_orange_layer = MulLayer()\n",
    "add_fruit_layer = AddLayer()\n",
    "mul_tax_layer = MulLayer()\n",
    "\n",
    "# 순전파\n",
    "apple_price = mul_apple_layer.forward(apple, apple_num)\n",
    "orange_price = mul_orange_layer.forward(orange, orange_num)\n",
    "fruit_price = add_fruit_layer.forward(apple_price, orange_price)\n",
    "price = mul_tax_layer.forward(fruit_price, tax)\n",
    "\n",
    "# 역전파\n",
    "dprice=1\n",
    "dfruit_price, dtax = mul_tax_layer.backward(dprice)\n",
    "dapple_price, dorange_price = add_fruit_layer.backward(dfruit_price)\n",
    "dapple, dapple_num = mul_apple_layer.backward(dapple_price)\n",
    "dorange, dorange_num = mul_orange_layer.backward(dorange_price)\n",
    "\n",
    "print(dapple, dapple_num, dorange, dorange_num, dtax)"
   ]
  },
  {
   "cell_type": "markdown",
   "id": "77f7c368-0eac-42e7-ab4c-df73e9f97453",
   "metadata": {},
   "source": [
    "# 5.5 활성화 함수 계층 구현하기\n",
    "ReLu, Sigmoid"
   ]
  },
  {
   "cell_type": "markdown",
   "id": "e4df9e91-e6ce-4421-84ba-10940faa29f6",
   "metadata": {},
   "source": [
    "ReLu 계층"
   ]
  },
  {
   "cell_type": "code",
   "execution_count": 6,
   "id": "1a921805-6cf0-479d-8c8c-6dfe6f7fc1c3",
   "metadata": {},
   "outputs": [],
   "source": [
    "class ReLu:\n",
    "    def __init__(self):\n",
    "        self.mask = None\n",
    "\n",
    "    def forward(self, x):\n",
    "        self.mask = (x<=0)\n",
    "        out = x.copy()\n",
    "        out[self.mask] = 0   # 0보다 작은 부분이 True \n",
    "        return out\n",
    "\n",
    "    def backward(self, dout):\n",
    "        dout[self.mask] = 0 # 0보다 작은 부분은 0\n",
    "        dx = dout\n",
    "        return dx"
   ]
  },
  {
   "cell_type": "code",
   "execution_count": 7,
   "id": "7e488f36-5bc2-405d-a749-5a3007e79036",
   "metadata": {},
   "outputs": [
    {
     "name": "stdout",
     "output_type": "stream",
     "text": [
      "[[ 1.  -0.5]\n",
      " [-2.   3. ]]\n"
     ]
    }
   ],
   "source": [
    "import numpy as np\n",
    "x = np.array([[1.0, -0.5], [-2.0, 3.0]])\n",
    "print(x)"
   ]
  },
  {
   "cell_type": "code",
   "execution_count": 8,
   "id": "af7f2a56-2c8e-4ef3-9ecd-1f170055a46a",
   "metadata": {},
   "outputs": [
    {
     "name": "stdout",
     "output_type": "stream",
     "text": [
      "[[False  True]\n",
      " [ True False]]\n"
     ]
    }
   ],
   "source": [
    "mask = (x<=0)\n",
    "print(mask)"
   ]
  },
  {
   "cell_type": "markdown",
   "id": "dda235c9-6f26-474c-b55c-d94f0aa1d7e9",
   "metadata": {},
   "source": [
    "Sigmoid 계층"
   ]
  },
  {
   "cell_type": "code",
   "execution_count": 9,
   "id": "76bd2671-7b34-4c1a-8cf6-d84ab6987ea8",
   "metadata": {},
   "outputs": [],
   "source": [
    "class Sigmoid:\n",
    "    def __init__(self):\n",
    "        self.out = None\n",
    "\n",
    "    def forward(self, x):\n",
    "        out=1/(1+np.exp(-x))\n",
    "        self.out=out\n",
    "        return out\n",
    "\n",
    "    def backward(self, dout):\n",
    "        dx=dout*(1.0-self.out)*self.out # dout * y(1-y)"
   ]
  },
  {
   "cell_type": "markdown",
   "id": "fca0b5c9-bc4e-4aec-b3c7-eec9555c3aed",
   "metadata": {},
   "source": [
    "# 5.6 Affine/Softmax 계층 구현하기"
   ]
  },
  {
   "cell_type": "markdown",
   "id": "9ce10ee4-2071-42c6-b15d-7ef231dfdd51",
   "metadata": {},
   "source": [
    "어파인(affine) 계층: 입력에 가중치를 곱하고 편향을 더하는 일련의 과정을 일컫는다.<br>\n",
    "만약, 입력이 행렬이라면?\n",
    "- 행렬 곱(내적): 스칼라 곱처럼 다른 노드의 입력을 곱하지만, 여기서는 다른 입력의 '전치행렬'을 곱한다.\n",
    "- 행렬 합: 스칼라 합처럼 기울기는 유지된다."
   ]
  },
  {
   "cell_type": "code",
   "execution_count": 10,
   "id": "003f3142-84dc-44c9-89fd-8703d7a3f03b",
   "metadata": {},
   "outputs": [
    {
     "data": {
      "text/plain": [
       "array([[ 1,  2,  3],\n",
       "       [11, 12, 13]])"
      ]
     },
     "execution_count": 10,
     "metadata": {},
     "output_type": "execute_result"
    }
   ],
   "source": [
    "X_dot_W=np.array([[0,0,0], [10,10,10]])\n",
    "B=np.array([1,2,3])\n",
    "X_dot_W+B             # 차원만 같다면, NumPy의 브로드케스팅으로 인해 데이터마다 편향이 더해진다."
   ]
  },
  {
   "cell_type": "code",
   "execution_count": 11,
   "id": "d317ccb8-f109-42d7-8948-405367ed9c73",
   "metadata": {},
   "outputs": [
    {
     "data": {
      "text/plain": [
       "array([5, 7, 9])"
      ]
     },
     "execution_count": 11,
     "metadata": {},
     "output_type": "execute_result"
    }
   ],
   "source": [
    "dY=np.array([[1,2,3], [4,5,6]])\n",
    "dB=np.sum(dY, axis=0)  # 출력에는 배치 수만큼 편향이 더해지기 때문에, 편향이 출력에 미친 모든 영향을 더해야한다.\n",
    "dB"
   ]
  },
  {
   "cell_type": "code",
   "execution_count": 12,
   "id": "ae8c1ef9-2dd4-416c-8823-7eb1b742eedc",
   "metadata": {},
   "outputs": [],
   "source": [
    "# Affine 계층 구현\n",
    "\n",
    "class Affine:\n",
    "    def __init__(self, W, b):\n",
    "        self.W = W\n",
    "        self.b = b\n",
    "        self.x = None\n",
    "        self.dW = None\n",
    "        self.dx = None\n",
    "\n",
    "    def forward(self, x):\n",
    "        self.x = x\n",
    "        out = np.dot(x, self.W)+self.b\n",
    "        return out\n",
    "\n",
    "    # 실제 CNN의 이미지 인식에서는 데이터가 다차원(4차원)으로 입력되기 때문에 '텐서 대응'이 필요하다. -> layer.py 파일 참고할 것.\n",
    "    # 4차원 데이터 x.shapee = (배치 크기, 채널 수, height, width), 픽셀은 height과 width으로 결정되고 채널은 한 픽셀 들어갈 수 있는 feature의 개수를 의미한다. \n",
    "\n",
    "    def backward(self, dout):\n",
    "        dx = np.dot(dout, self.W.T)\n",
    "        dW = np.dot(dout, self.x.T)\n",
    "        self.db = np.sum(dout, axis=0)\n",
    "        return dx                      # 역전파의 목적은 다음 계층으로 기울기를 넘겨야하기 때문에 dx만 반환했다.\n",
    "                                       # dW와 db는 각 계층에 저장만 해두었다가, 나중에 optimizer가 업데이트한다."
   ]
  },
  {
   "cell_type": "markdown",
   "id": "9d522361-e878-40d5-9df8-c541ccba35b9",
   "metadata": {},
   "source": [
    "### Softmax-with-Loss 계층\n",
    "역전파의 입력의 기본 형태 = 신경망의 현재 출력 - 정답 레이블<br>\n",
    "기본 형태에 맞게, 분류는 '소프트맥스 함수-교차 엔트로피 오차'를 적용하고 회귀는 '항등 함수 - 오차제곱합'을 적용한다."
   ]
  },
  {
   "cell_type": "code",
   "execution_count": 13,
   "id": "17b267cc-c28b-4bf7-a619-909a6c8ad6b1",
   "metadata": {},
   "outputs": [],
   "source": [
    "class SoftmaxLoss:\n",
    "    def __init__(self):\n",
    "        self.loss = None\n",
    "        self.y = None\n",
    "        self.t = None\n",
    "\n",
    "    def forward(self, x, t):\n",
    "        self.t = t\n",
    "        self.y = softmax(x)\n",
    "        self.loss = cross_entropy_error(self.y, self.t)\n",
    "\n",
    "    def backward(self, dout=1):\n",
    "        batch_size = self.t.shape[0]\n",
    "        dx = (self.y-self.t)/batch_size # 역전파에서는 데이터 1개당 오차를 전달하므로 배치 사이즈로 나눈다.\n",
    "        return dx"
   ]
  },
  {
   "cell_type": "markdown",
   "id": "36a826bd-9c7b-47f4-aa5a-b650826415a4",
   "metadata": {},
   "source": [
    "# 5.7 오차역전파법 구현하기"
   ]
  },
  {
   "cell_type": "code",
   "execution_count": 14,
   "id": "28d89726-714a-45e0-b0bd-61fff3fe07b5",
   "metadata": {},
   "outputs": [],
   "source": [
    "from mnist import load_mnist\n",
    "from layers import *\n",
    "from gradient import numerical_gradient\n",
    "from collections import OrderedDict\n",
    "\n",
    "class TwoLayerNet:\n",
    "    def __init__(self, input_size, hidden_size, output_size, weight_init_std=0.01):\n",
    "\n",
    "        # 가중치 초기화\n",
    "        self.params = {}\n",
    "        self.params['W1'] = weight_init_std * np.random.randn(input_size, hidden_size)\n",
    "        self.params['b1'] = np.zeros(hidden_size)\n",
    "        self.params['W2'] = weight_init_std * np.random.randn(hidden_size, output_size)\n",
    "        self.params['b2'] = np.zeros(output_size)\n",
    "\n",
    "        # 계층 생성\n",
    "        self.layers = OrderedDict()   # layers는 순서를 기억하는 딕셔리리\n",
    "        self.layers['Affine1'] = Affine(self.params['W1'], self.params['b1'])\n",
    "        self.layers['Relu1'] = Relu()\n",
    "        self.layers['Affine2'] = Affine(self.params['W2'], self.params['b2'])\n",
    "        \n",
    "        self.lastlayer = SoftmaxWithLoss() # 출력층은 softmax with loss\n",
    "\n",
    "    # 순전파에서는 저장한 순서대로 계층을 만난다.\n",
    "    def predict(self, x):\n",
    "        for layer in self.layers.values():\n",
    "            x = layer.forward(x)\n",
    "        return x\n",
    "\n",
    "    def loss(self, x, t):\n",
    "        y = self.predict(x)\n",
    "        return self.lastlayer.forward(y, t)\n",
    "\n",
    "    def accuracy(self, x, t):\n",
    "        y = self.predict(x)\n",
    "        y = np.argmax( y, axis=1)\n",
    "        if t.ndim != 1 : t = np.argmax(t, axis=1)\n",
    "        accuracy = np.sum(y==t) / float(x.shape[0])\n",
    "        return accuracy\n",
    "\n",
    "    # 수치 해석\n",
    "    def numerical_gradient(self, x, t):\n",
    "        loss_W = lambda W: self.loss(x, t)\n",
    "\n",
    "        grads = {}\n",
    "        grads['W1'] = numerical_gradient(loss_W, self.params['W1'])\n",
    "        grads['b1'] = numerical_gradient(loss_W, self.params['b1'])\n",
    "        grads['W2'] = numerical_gradient(loss_W, self.params['W2'])\n",
    "        grads['b2'] = numerical_gradient(loss_W, self.params['b2'])\n",
    "\n",
    "        return grads\n",
    "\n",
    "    # 해석적으로 기울기 구하는 방법\n",
    "    def gradient(self, x, t):\n",
    "        # 순전파\n",
    "        self.loss(x, t)\n",
    "\n",
    "        # 역전파\n",
    "        dout =1\n",
    "        dout = self.lastlayer.backward(dout) # 역전파의 입력은 신경망 출력 - 정답 레이블\n",
    "\n",
    "        layers = list(self.layers.values())\n",
    "        layers.reverse() # 계층의 순서를 뒤집어서 역전파의 순서로 바꾼다.\n",
    "        for layer in layers:\n",
    "            dout = layer.backward(dout)\n",
    "\n",
    "        # 결과 저장\n",
    "        grads = {}\n",
    "        grads['W1'] = self.layers['Affine1'].dW\n",
    "        grads['b1'] = self.layers['Affine1'].db\n",
    "        grads['W2'] = self.layers['Affine2'].dW\n",
    "        grads['b2'] = self.layers['Affine2'].db\n",
    "\n",
    "        return grads"
   ]
  },
  {
   "cell_type": "markdown",
   "id": "68313276-bf97-49d8-9316-c0dc54417295",
   "metadata": {},
   "source": [
    "수치미분은 오래 걸리지만, 오차역전파 법을 검사하기 위해 필요하다."
   ]
  },
  {
   "cell_type": "code",
   "execution_count": 15,
   "id": "52f8ebb0-d440-4f90-b7d3-eb0d100ab26b",
   "metadata": {},
   "outputs": [
    {
     "name": "stdout",
     "output_type": "stream",
     "text": [
      "W1:4.1310786141938275e-10\n",
      "b1:2.5464088509986015e-09\n",
      "W2:5.083615999297922e-09\n",
      "b2:1.4083904897460587e-07\n"
     ]
    }
   ],
   "source": [
    "from mnist import load_mnist\n",
    "(x_train, t_train), (x_test, t_test) = load_mnist(normalize=True, one_hot_label=True)\n",
    "network = TwoLayerNet(input_size=784, hidden_size=50, output_size = 10)\n",
    "\n",
    "x_batch = x_train[:3]\n",
    "t_batch = t_train[:3]\n",
    "\n",
    "grad_numerical = network.numerical_gradient(x_batch, t_batch)\n",
    "grad_backprop = network.gradient(x_batch, t_batch)\n",
    "\n",
    "# 각 가중치의 차이의 절댓값을 구한 후, 그 절댓값들의 평균을 낸다.\n",
    "for key in grad_numerical.keys():\n",
    "    diff = np.average(np.abs(grad_backprop[key] - grad_numerical[key]))\n",
    "    print(key + \":\" + str(diff))"
   ]
  },
  {
   "cell_type": "markdown",
   "id": "3241e131-116d-4d59-9222-2d1ebef2ff25",
   "metadata": {},
   "source": [
    "해석적으로 구한 기울기(오차역전파 법)과 수치해석으로 구한 기울기의 차이가 작다는 것을 알려준다."
   ]
  },
  {
   "cell_type": "markdown",
   "id": "103245af-520c-43a4-be5a-a0c9dbacea29",
   "metadata": {},
   "source": [
    "### 오차역전파 법을 활용한 학습 구현하기"
   ]
  },
  {
   "cell_type": "code",
   "execution_count": 16,
   "id": "9408042b-61b9-4c4e-bb28-50321bebc6f5",
   "metadata": {},
   "outputs": [
    {
     "name": "stdout",
     "output_type": "stream",
     "text": [
      "0.04275 0.0386\n",
      "0.8988166666666667 0.903\n",
      "0.9215833333333333 0.9248\n",
      "0.93425 0.9341\n",
      "0.9433333333333334 0.9397\n",
      "0.94915 0.9466\n",
      "0.9551 0.9516\n",
      "0.9566833333333333 0.9536\n",
      "0.9634 0.9579\n",
      "0.9661 0.9604\n",
      "0.9681 0.962\n",
      "0.9703833333333334 0.9635\n",
      "0.9717833333333333 0.9662\n",
      "0.9739833333333333 0.9677\n",
      "0.9745666666666667 0.9675\n",
      "0.9766333333333334 0.9683\n",
      "0.97755 0.969\n"
     ]
    }
   ],
   "source": [
    "from mnist import load_mnist\n",
    "(x_train, t_train), (x_test, t_test) = load_mnist(normalize=True, one_hot_label=True)\n",
    "\n",
    "network = TwoLayerNet(input_size=784, hidden_size=50, output_size=10)\n",
    "\n",
    "iters_num = 10000\n",
    "train_size = x_train.shape[0]\n",
    "batch_size = 100\n",
    "learning_rate = 0.1\n",
    "\n",
    "train_loss_list = []\n",
    "train_acc_list = []\n",
    "test_acc_list = []\n",
    "\n",
    "# 시각화 용 변수\n",
    "num=0\n",
    "num_iter=[]\n",
    "\n",
    "iter_per_epoch = max(train_size / batch_size, 1)\n",
    "\n",
    "for i in range(iters_num):\n",
    "    batch_mask = np.random.choice(train_size, batch_size)\n",
    "    x_batch = x_train[batch_mask]\n",
    "    t_batch = t_train[batch_mask]\n",
    "    \n",
    "    # 기울기 계산\n",
    "    #grad = network.numerical_gradient(x_batch, t_batch) # 수치 미분 방식\n",
    "    grad = network.gradient(x_batch, t_batch) # 오차역전파법 방식(훨씬 빠르다)\n",
    "    \n",
    "    # 갱신\n",
    "    for key in ('W1', 'b1', 'W2', 'b2'):\n",
    "        network.params[key] -= learning_rate * grad[key]\n",
    "    \n",
    "    loss = network.loss(x_batch, t_batch)\n",
    "    train_loss_list.append(loss)\n",
    "    \n",
    "    if i % iter_per_epoch == 0:    # 중간중간 성능 확인을 위함 -> 하지만, 과적합 방지를 위해 early stop도 필요하다.\n",
    "        num+=1\n",
    "        num_iter.append(num)\n",
    "        \n",
    "        train_acc = network.accuracy(x_train, t_train)\n",
    "        test_acc = network.accuracy(x_test, t_test)\n",
    "        train_acc_list.append(train_acc)\n",
    "        test_acc_list.append(test_acc)\n",
    "        print(train_acc, test_acc)"
   ]
  },
  {
   "cell_type": "code",
   "execution_count": 17,
   "id": "8db6eac4-5dae-44ea-ad28-8f50c2254130",
   "metadata": {
    "scrolled": true
   },
   "outputs": [
    {
     "data": {
      "image/png": "[encoded data removed]",
      "text/plain": [
       "<Figure size 640x480 with 1 Axes>"
      ]
     },
     "metadata": {},
     "output_type": "display_data"
    }
   ],
   "source": [
    "import matplotlib.pyplot as plt\n",
    "plt.plot(num_iter, train_acc_list, linestyle='--', label='train accuracy')\n",
    "plt.plot(num_iter, test_acc_list, label='test accuracy')\n",
    "plt.legend()\n",
    "plt.show()"
   ]
  },
  {
   "cell_type": "markdown",
   "id": "0f9c5d73-3357-4e39-9250-29d8da03a633",
   "metadata": {},
   "source": [
    "오차역전파법에서 iter_num 만큼 반복 학습한다.<br>\n",
    "각 계층의 가중치와 편향이 오차에 얼마나 기여하는지(기울기)를 구하고 학습률을 곱해서 빼준다.<br>\n",
    "그러므로 **자연스럽게 기울기가 큰 파라미터는 크게, 작은 파라미터는 조금만 수정**하게 되는 것이다.<br>\n",
    "이런 원리 덕분에, 몇번의 반복만으로 정확도가 크게 증가한다."
   ]
  }
 ],
 "metadata": {
  "kernelspec": {
   "display_name": "Python 3 (ipykernel)",
   "language": "python",
   "name": "python3"
  },
  "language_info": {
   "codemirror_mode": {
    "name": "ipython",
    "version": 3
   },
   "file_extension": ".py",
   "mimetype": "text/x-python",
   "name": "python",
   "nbconvert_exporter": "python",
   "pygments_lexer": "ipython3",
   "version": "3.12.7"
  }
 },
 "nbformat": 4,
 "nbformat_minor": 5
}
