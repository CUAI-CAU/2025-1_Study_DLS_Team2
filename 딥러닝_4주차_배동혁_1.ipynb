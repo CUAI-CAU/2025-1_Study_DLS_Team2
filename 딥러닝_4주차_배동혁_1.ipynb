{
 "cells": [
  {
   "cell_type": "markdown",
   "id": "c06117aa-1585-414a-bf8a-e01c1c6f6fde",
   "metadata": {},
   "source": [
    "softmax 예제"
   ]
  },
  {
   "cell_type": "code",
   "execution_count": 1,
   "id": "57399f11-cd84-4d3a-b58d-91a54e58127b",
   "metadata": {},
   "outputs": [
    {
     "name": "stdout",
     "output_type": "stream",
     "text": [
      "[ 1.34985881 18.17414537 54.59815003]\n",
      "74.1221542101633\n",
      "[0.01821127 0.24519181 0.73659691]\n"
     ]
    }
   ],
   "source": [
    "import numpy as np\n",
    "a=np.array([0.3,2.9,4.0])\n",
    "\n",
    "exp_a = np.exp(a)\n",
    "print(exp_a)\n",
    "\n",
    "sum_exp_a = np.sum(exp_a)\n",
    "print(sum_exp_a)\n",
    "\n",
    "y=exp_a / sum_exp_a\n",
    "print(y)"
   ]
  },
  {
   "cell_type": "markdown",
   "id": "7f169574-2b79-49c0-8b6c-423e224b94ce",
   "metadata": {},
   "source": [
    "softmax 함수"
   ]
  },
  {
   "cell_type": "code",
   "execution_count": 2,
   "id": "6b9991da-39e4-4901-8172-95f35b40ab63",
   "metadata": {},
   "outputs": [],
   "source": [
    "def softmax(a):\n",
    "    exp_a = np.exp(a)\n",
    "    sum_exp_a = np.sum(exp_a)\n",
    "    y=exp_a / sum_exp_a\n",
    "\n",
    "    return y"
   ]
  },
  {
   "cell_type": "markdown",
   "id": "dfc57f0a-37e7-4780-8129-9eb4994e337b",
   "metadata": {},
   "source": [
    "softmax : 지수함수 너무 커서 overflow 발생  \n",
    "그래서 입력 신호 중 최댓값을 사용하여 값 조정  \n",
    "softmax의 지수 함수를 계산할 때 어떤 정수를 더해도 결과 같음!!"
   ]
  },
  {
   "cell_type": "code",
   "execution_count": 3,
   "id": "9b6d7c14-aaa6-4839-b267-eec506a00187",
   "metadata": {},
   "outputs": [
    {
     "name": "stdout",
     "output_type": "stream",
     "text": [
      "[  0 -10 -20]\n"
     ]
    },
    {
     "name": "stderr",
     "output_type": "stream",
     "text": [
      "C:\\TempFolder\\ipykernel_4272\\1600684083.py:2: RuntimeWarning: overflow encountered in exp\n",
      "  np.exp(a)/np.sum(np.exp(a))\n",
      "C:\\TempFolder\\ipykernel_4272\\1600684083.py:2: RuntimeWarning: invalid value encountered in divide\n",
      "  np.exp(a)/np.sum(np.exp(a))\n"
     ]
    },
    {
     "data": {
      "text/plain": [
       "array([9.99954600e-01, 4.53978686e-05, 2.06106005e-09])"
      ]
     },
     "execution_count": 3,
     "metadata": {},
     "output_type": "execute_result"
    }
   ],
   "source": [
    "a=np.array([1010,1000,990])\n",
    "np.exp(a)/np.sum(np.exp(a))\n",
    "\n",
    "c=np.max(a)\n",
    "print(a-c)\n",
    "\n",
    "np.exp(a-c) / np.sum(np.exp(a-c))"
   ]
  },
  {
   "cell_type": "markdown",
   "id": "4e397931-5427-4386-a45a-3b89e867ad0c",
   "metadata": {},
   "source": [
    "조정된 softmax 함수"
   ]
  },
  {
   "cell_type": "code",
   "execution_count": 4,
   "id": "b1e45cb8-9ae8-419d-95fa-fc27888f5eb1",
   "metadata": {},
   "outputs": [],
   "source": [
    "def softmax(a):\n",
    "    c=np.max(a)\n",
    "    exp_a = np.exp(a-c)\n",
    "    sum_exp_a = np.sum(exp_a)\n",
    "    y = exp_a / sum_exp_a\n",
    "\n",
    "    return y"
   ]
  },
  {
   "cell_type": "code",
   "execution_count": 5,
   "id": "3927cd78-17eb-46f1-8dfa-8d565d08e5ad",
   "metadata": {},
   "outputs": [
    {
     "name": "stdout",
     "output_type": "stream",
     "text": [
      "[0.01821127 0.24519181 0.73659691]\n"
     ]
    },
    {
     "data": {
      "text/plain": [
       "1.0"
      ]
     },
     "execution_count": 5,
     "metadata": {},
     "output_type": "execute_result"
    }
   ],
   "source": [
    "a=np.array([0.3,2.9,4.0])\n",
    "y=softmax(a)\n",
    "print(y)\n",
    "np.sum(y)"
   ]
  },
  {
   "cell_type": "code",
   "execution_count": 6,
   "id": "d662b6f0-0644-4641-a128-ec31534e726e",
   "metadata": {},
   "outputs": [
    {
     "name": "stdout",
     "output_type": "stream",
     "text": [
      "(60000, 784)\n",
      "(60000,)\n",
      "(10000, 784)\n",
      "(10000,)\n"
     ]
    }
   ],
   "source": [
    "import sys, os\n",
    "sys.path.append(os.pardir)\n",
    "from dataset.mnist import load_mnist\n",
    "\n",
    "(x_train, t_train), (x_test, t_test) = load_mnist(flatten=True, normalize=False)\n",
    "\n",
    "print(x_train.shape)\n",
    "print(t_train.shape)\n",
    "print(x_test.shape)\n",
    "print(t_test.shape)"
   ]
  },
  {
   "cell_type": "code",
   "execution_count": 7,
   "id": "e8187d2f-6157-40be-994c-46ab4404f2e9",
   "metadata": {},
   "outputs": [
    {
     "name": "stdout",
     "output_type": "stream",
     "text": [
      "5\n",
      "(784,)\n",
      "(28, 28)\n"
     ]
    }
   ],
   "source": [
    "import sys, os\n",
    "sys.path.append(os.pardir)\n",
    "import numpy as np\n",
    "from dataset.mnist import load_mnist\n",
    "# PIL.Image: 이미지로 변환하고 화면에 띄우기 위해 사용\n",
    "from PIL import Image\n",
    "\n",
    "def img_show(img):\n",
    "# np.uint8(img): 0~255 범위의 정수로 변환 → 이미지 표현용으로 맞춰주는 것\n",
    "   pil_img=Image.fromarray(np.uint8(img))\n",
    "   pil_img.show()\n",
    "\n",
    "(x_train, t_train), (x_test, t_test) = load_mnist(flatten=True, normalize=False)\n",
    "\n",
    "# img : x_train의 첫번째, label : t_train의 첫 번째 정답\n",
    "img=x_train[0]\n",
    "label=t_train[0]\n",
    "print(label)\n",
    "\n",
    "# (784,)가 출력됨. flatten = True 때문\n",
    "print(img.shape)\n",
    "\n",
    "# 이미지를 1차원에서 다시 28x28 크기의 2차원 이미지로 복원\n",
    "img=img.reshape(28,28)\n",
    "print(img.shape)\n",
    "\n",
    "# 최종적으로 숫자 이미지를 화면에 띄움\n",
    "img_show(img)"
   ]
  },
  {
   "cell_type": "code",
   "execution_count": 5,
   "id": "73e70ca9-3fb6-402b-98d9-ed1de9ffb94f",
   "metadata": {},
   "outputs": [
    {
     "name": "stdout",
     "output_type": "stream",
     "text": [
      "Accuracy:0.9352\n"
     ]
    }
   ],
   "source": [
    "import sys, os\n",
    "import importlib\n",
    "sys.path.append(os.path.join(os.getcwd(), '..'))  # 부모 디렉터리의 파일을 가져올 수 있도록 설정\n",
    "import numpy as np\n",
    "import pickle\n",
    "import common.functions\n",
    "importlib.reload(common.functions)\n",
    "from dataset.mnist import load_mnist\n",
    "\n",
    "def sigmoid(x):\n",
    "    return 1 / (1 + np.exp(-x))\n",
    "\n",
    "def softmax(x):\n",
    "    if x.ndim == 2:\n",
    "        x = x - np.max(x, axis=1, keepdims=True)\n",
    "        x = np.exp(x)\n",
    "        x /= np.sum(x, axis=1, keepdims=True)\n",
    "        return x\n",
    "    x = x - np.max(x)\n",
    "    return np.exp(x) / np.sum(np.exp(x))\n",
    "\n",
    "def get_data():\n",
    "    (x_train, t_train), (x_test, t_test) = load_mnist(normalize=True, flatten=True, one_hot_label=False)\n",
    "    return x_test, t_test\n",
    "\n",
    "\n",
    "def init_network():\n",
    "    path = os.path.join(os.getcwd(), \"sample_weight.pkl\")  # 현재 작업 디렉토리 기준\n",
    "    with open(path, 'rb') as f:\n",
    "        network = pickle.load(f)\n",
    "    return network\n",
    "\n",
    "\n",
    "def predict(network, x):\n",
    "    W1, W2, W3 = network['W1'], network['W2'], network['W3']\n",
    "    b1, b2, b3 = network['b1'], network['b2'], network['b3']\n",
    "\n",
    "    a1 = np.dot(x, W1) + b1\n",
    "    z1 = sigmoid(a1)\n",
    "    a2 = np.dot(z1, W2) + b2\n",
    "    z2 = sigmoid(a2)\n",
    "    a3 = np.dot(z2, W3) + b3\n",
    "    y = softmax(a3)\n",
    "\n",
    "    return y\n",
    "\n",
    "\n",
    "x, t = get_data()\n",
    "network = init_network()\n",
    "accuracy_cnt = 0\n",
    "for i in range(len(x)):\n",
    "    y = predict(network, x[i])\n",
    "    p= np.argmax(y) # 확률이 가장 높은 원소의 인덱스를 얻는다.\n",
    "    if p == t[i]:\n",
    "        accuracy_cnt += 1\n",
    "\n",
    "print(\"Accuracy:\" + str(float(accuracy_cnt) / len(x)))"
   ]
  },
  {
   "cell_type": "code",
   "execution_count": 10,
   "id": "4a2ebe32-aa02-4166-b917-f7e30939e4e0",
   "metadata": {},
   "outputs": [
    {
     "name": "stdout",
     "output_type": "stream",
     "text": [
      "(10000, 784)\n",
      "(784,)\n",
      "(784, 50)\n",
      "(50, 100)\n",
      "(100, 10)\n"
     ]
    }
   ],
   "source": [
    "x, _ = get_data()\n",
    "network=init_network()\n",
    "w1, w2, w3 = network['W1'], network['W2'], network['W3']\n",
    "\n",
    "print(x.shape)\n",
    "print(x[0].shape)\n",
    "print(w1.shape)\n",
    "print(w2.shape)\n",
    "print(w3.shape)"
   ]
  },
  {
   "cell_type": "code",
   "execution_count": 12,
   "id": "780f8f69-0fbd-4696-a16e-70dfd66d37ca",
   "metadata": {},
   "outputs": [
    {
     "name": "stdout",
     "output_type": "stream",
     "text": [
      "Accuracy:0.9352\n"
     ]
    }
   ],
   "source": [
    "x, t= get_data()\n",
    "network=init_network()\n",
    "\n",
    "batch_size=100\n",
    "accuracy_cnt=0\n",
    "\n",
    "for i in range(0, len(x), batch_size):\n",
    "    x_batch=x[i:i+batch_size]\n",
    "    y_batch=predict(network, x_batch)\n",
    "    p=np.argmax(y_batch, axis=1)\n",
    "    accuracy_cnt+=np.sum(p==t[i:i+batch_size])\n",
    "\n",
    "print(\"Accuracy:\" + str(float(accuracy_cnt/len(x))))"
   ]
  },
  {
   "cell_type": "code",
   "execution_count": 14,
   "id": "068f778e-73c8-43d3-b160-7c08b7153ddd",
   "metadata": {},
   "outputs": [
    {
     "data": {
      "text/plain": [
       "[0, 1, 2, 3, 4, 5, 6, 7, 8, 9]"
      ]
     },
     "execution_count": 14,
     "metadata": {},
     "output_type": "execute_result"
    }
   ],
   "source": [
    "list(range(0,10))"
   ]
  },
  {
   "cell_type": "code",
   "execution_count": 15,
   "id": "c3cbdec6-2002-4d8d-9c7c-454da609a1c1",
   "metadata": {},
   "outputs": [
    {
     "data": {
      "text/plain": [
       "[0, 3, 6, 9]"
      ]
     },
     "execution_count": 15,
     "metadata": {},
     "output_type": "execute_result"
    }
   ],
   "source": [
    "list(range(0,10,3))"
   ]
  },
  {
   "cell_type": "code",
   "execution_count": 16,
   "id": "333c31e8-a07c-4c7d-ba87-4d84c0f41fee",
   "metadata": {},
   "outputs": [
    {
     "name": "stdout",
     "output_type": "stream",
     "text": [
      "[1 2 1 0]\n"
     ]
    }
   ],
   "source": [
    "x=np.array([[0.1,0.8,0.1],[0.3,0.1,0.6],[0.2,0.5,0.3],[0.8,0.1,0.1]])\n",
    "# argmax : 최댓값의 index 가져오기\n",
    "y=np.argmax(x,axis=1)\n",
    "print(y)"
   ]
  },
  {
   "cell_type": "code",
   "execution_count": 17,
   "id": "a82b548b-ee56-4cad-89a4-d2389799678a",
   "metadata": {},
   "outputs": [
    {
     "name": "stdout",
     "output_type": "stream",
     "text": [
      "[ True  True False  True]\n"
     ]
    },
    {
     "data": {
      "text/plain": [
       "3"
      ]
     },
     "execution_count": 17,
     "metadata": {},
     "output_type": "execute_result"
    }
   ],
   "source": [
    "y=np.array([1,2,1,0])\n",
    "t=np.array([1,2,0,0])\n",
    "print(y==t)\n",
    "np.sum(y==t)"
   ]
  },
  {
   "cell_type": "code",
   "execution_count": null,
   "id": "49085586-9c7e-4caa-b90a-c878933ed2aa",
   "metadata": {},
   "outputs": [],
   "source": []
  }
 ],
 "metadata": {
  "kernelspec": {
   "display_name": "Python 3 (ipykernel)",
   "language": "python",
   "name": "python3"
  },
  "language_info": {
   "codemirror_mode": {
    "name": "ipython",
    "version": 3
   },
   "file_extension": ".py",
   "mimetype": "text/x-python",
   "name": "python",
   "nbconvert_exporter": "python",
   "pygments_lexer": "ipython3",
   "version": "3.12.7"
  }
 },
 "nbformat": 4,
 "nbformat_minor": 5
}
