{
 "cells": [
  {
   "cell_type": "markdown",
   "id": "2672cc25-024b-463f-83dc-98e0cdfc11de",
   "metadata": {},
   "source": [
    "# 4.2 손실함수\n",
    "신경망은 '손실함수'(비용함수)를 기준으로 최적의 매개변수 값을 탐색한다.<br>\n",
    "- 오차제곱합\n",
    "- 엔트로피 오차"
   ]
  },
  {
   "cell_type": "markdown",
   "id": "169b19e8-a5cf-471d-916c-448d9cf75dc1",
   "metadata": {},
   "source": [
    "### 오차제곱합(SSE, Sum of Squares for Error)"
   ]
  },
  {
   "cell_type": "code",
   "execution_count": 1,
   "id": "329fe746-b99b-434c-bef7-88c4c1d58137",
   "metadata": {},
   "outputs": [
    {
     "data": {
      "text/plain": [
       "0.09750000000000003"
      ]
     },
     "execution_count": 1,
     "metadata": {},
     "output_type": "execute_result"
    }
   ],
   "source": [
    "# 한 개의 출력 세트, 10개의 인덱스로 구성된다.\n",
    "y=[0.1, 0.05, 0.6, 0.0, 0.05, 0.1, 0.0, 0.1, 0.0, 0.0]\n",
    "t=[0, 0, 1, 0, 0, 0, 0, 0, 0, 0] # 원-핫-인코딩\n",
    "\n",
    "import numpy as np\n",
    "def sum_squares_error(y, t):\n",
    "    return 0.5*np.sum((y-t)**2)\n",
    "\n",
    "sum_squares_error(np.array(y), np.array(t))"
   ]
  },
  {
   "cell_type": "code",
   "execution_count": 2,
   "id": "9230ffd7-8eb7-4ad3-8799-cc7469338c15",
   "metadata": {},
   "outputs": [
    {
     "data": {
      "text/plain": [
       "0.5975"
      ]
     },
     "execution_count": 2,
     "metadata": {},
     "output_type": "execute_result"
    }
   ],
   "source": [
    "y=[0.1, 0.05, 0.1, 0.0, 0.05, 0.1, 0.0, 0.6, 0.0, 0.0]\n",
    "sum_squares_error(np.array(y), np.array(t)) # 손실함수가 매우 커짐"
   ]
  },
  {
   "cell_type": "markdown",
   "id": "2d6dcca8-ad2b-4063-b31c-14b709bc579b",
   "metadata": {},
   "source": [
    "### 교차 엔트로피 오차(CEE, Cross Etropy Error)\n",
    "-정답 레이블 x 자연로그(출력 결과, 확률)의 합 -> 정답 레이블과 일치할 때 확률이 높을 수록, 손실함수가 낮다. 즉, 성능이 정확하다."
   ]
  },
  {
   "cell_type": "code",
   "execution_count": 3,
   "id": "70b2310f-74c4-4aa9-96f2-a81086d87469",
   "metadata": {},
   "outputs": [
    {
     "data": {
      "text/plain": [
       "0.510825457099338"
      ]
     },
     "execution_count": 3,
     "metadata": {},
     "output_type": "execute_result"
    }
   ],
   "source": [
    "def cross_entropy_error(y,t):\n",
    "    delta= 1e-7\n",
    "    return -np.sum(t*np.log(y+delta)) # np.log는 자연로고임\n",
    "\n",
    "y=[0.1, 0.05, 0.6, 0.0, 0.05, 0.1, 0.0, 0.1, 0.0, 0.0]\n",
    "t=[0, 0, 1, 0, 0, 0, 0, 0, 0, 0]\n",
    "cross_entropy_error(np.array(y), np.array(t))"
   ]
  },
  {
   "cell_type": "code",
   "execution_count": 4,
   "id": "bc328f26-91cd-42c5-a6e7-03b0be371cdb",
   "metadata": {},
   "outputs": [
    {
     "data": {
      "text/plain": [
       "2.302584092994546"
      ]
     },
     "execution_count": 4,
     "metadata": {},
     "output_type": "execute_result"
    }
   ],
   "source": [
    "y=[0.1, 0.05, 0.1, 0.0, 0.05, 0.1, 0.0, 0.6, 0.0, 0.0] # 정답일 때, 확률이 0.6에서 0.1로 감소 -> 손실함수 값이 증가\n",
    "cross_entropy_error(np.array(y), np.array(t))"
   ]
  },
  {
   "cell_type": "markdown",
   "id": "8059e80a-cabd-40ba-8d15-0a6d5d595f3a",
   "metadata": {},
   "source": [
    "### 미니배치 학습\n",
    "많은 훈련 데이터 중에서 무작위로 일부 데이터를 골라 학습하는 방법<br>\n",
    "np.random.choice(전체 데이터 수, 원하는 데이터 수) -> 배열로 반환"
   ]
  },
  {
   "cell_type": "code",
   "execution_count": 5,
   "id": "de4c146a-f998-4357-9a12-f4824371c1e3",
   "metadata": {},
   "outputs": [
    {
     "name": "stdout",
     "output_type": "stream",
     "text": [
      "(60000, 784)\n",
      "(60000, 10)\n"
     ]
    }
   ],
   "source": [
    "from mnist import load_mnist\n",
    "\n",
    "(x_train, t_train), (x_test, t_test)=load_mnist(normalize=True, one_hot_label=True)\n",
    "print(x_train.shape)\n",
    "print(t_train.shape)"
   ]
  },
  {
   "cell_type": "code",
   "execution_count": 6,
   "id": "89a82726-54c4-4223-92b2-a8fd3f21f22c",
   "metadata": {},
   "outputs": [],
   "source": [
    "# np.random.choice()사용 -> 6만개의 train 데이터셋에서 10개의 랜덤한 데이터 선택\n",
    "train_size = x_train.shape[0] # 60,000개\n",
    "batch_size = 10\n",
    "batch_mask = np.random.choice(train_size, batch_size)\n",
    "x_batch = x_train[batch_mask]\n",
    "t_batch =t_train[batch_mask]"
   ]
  },
  {
   "cell_type": "code",
   "execution_count": 7,
   "id": "5e893eca-758c-4e5c-82c1-ef95d4ae88c2",
   "metadata": {},
   "outputs": [
    {
     "data": {
      "text/plain": [
       "array([ 2506, 48800, 26153, 35890, 16312,  3835,  4082,  9084, 44746,\n",
       "       27681])"
      ]
     },
     "execution_count": 7,
     "metadata": {},
     "output_type": "execute_result"
    }
   ],
   "source": [
    "np.random.choice(60000, 10) #배열로 반환"
   ]
  },
  {
   "cell_type": "code",
   "execution_count": 8,
   "id": "e91ed800-d67f-49cc-8947-0f31ca12212a",
   "metadata": {},
   "outputs": [],
   "source": [
    "# 정답 레이블이 원-핫-레이블\n",
    "def cross_entropy_error(y, t):\n",
    "    if y.ndim == 1:\n",
    "        t = t.reshape(1, t.size) # CEE에서는 (배치 수, 클래스 수)로 받아야 하기 때문\n",
    "        y = y.reshape(1, y.size)\n",
    "\n",
    "    batch_size = y.shape[0]\n",
    "    return -np.sum(t*np.log(y+1e-7))/batch_size"
   ]
  },
  {
   "cell_type": "code",
   "execution_count": 9,
   "id": "687db8e2-5392-4f37-b2ee-cdf65a6b71cd",
   "metadata": {},
   "outputs": [],
   "source": [
    "# 정답 레이블이 숫자 레이블\n",
    "def cross_entropy_error(y, t):\n",
    "    if y.ndim == 1:\n",
    "        t = t.reshape(1, t.size)\n",
    "        y = y.reshape(1, y.size)\n",
    "\n",
    "    batch_size = y.shape[0]\n",
    "    return -np.sum(np.log(y[np.arange(batch_size), t] +1e-7))/batch_size # 배치가 여러 개라면, 숫자 레이블을 좌표로 여길 수 있다."
   ]
  },
  {
   "cell_type": "code",
   "execution_count": 10,
   "id": "5b716b49-2e70-4c50-9871-8627faa23543",
   "metadata": {},
   "outputs": [
    {
     "data": {
      "text/plain": [
       "23.718987110506905"
      ]
     },
     "execution_count": 10,
     "metadata": {},
     "output_type": "execute_result"
    }
   ],
   "source": [
    "y=[0.1, 0.05, 0.6, 0.0, 0.05, 0.1, 0.0, 0.1, 0.0, 0.0]\n",
    "t=[0, 0, 1, 0, 0, 0, 0, 0, 0, 0]\n",
    "cross_entropy_error(np.array(y), np.array(t))"
   ]
  },
  {
   "cell_type": "markdown",
   "id": "bf023ce7-5e0e-4f8e-a0cc-a80da4a096d1",
   "metadata": {},
   "source": [
    "### 손실함수를 설정하는 이유"
   ]
  },
  {
   "cell_type": "markdown",
   "id": "dbb196a7-dbc8-45db-829b-58c515326511",
   "metadata": {},
   "source": [
    "하나의 매개변수를 변화시키면서 손실함수를 지켜보자. 작은 변화로 인해 손실함수가 변하는 것을 확인할 수 있다. <br>\n",
    "하지만, 정확도를 지표로 삼는다면 매개변수를 작게 변화시켜도 결과가 달라지지 않을 수 있다.<br>\n",
    "가령 100개의 사진 중에서 30개 사진이 정확하다고 할 때, 매개변수 하나를 변화시켜도 여전히 정확도는 30%일 수도 있다.<br><br>\n",
    "지표를 정하는 것은 매개변수의 최적화이기 때문에, 지표의 핵심은 매개변수의 변화를 더 잘 반영할 수 있는 함수다.<br>\n",
    "마찬가지로, 활성화 함수로 계단 함수 대신 시그모이드 함수를 사용한다."
   ]
  },
  {
   "cell_type": "markdown",
   "id": "d1826da1-a4f3-4b12-a73d-644dc201c40d",
   "metadata": {},
   "source": [
    "# 4.3 수치 미분"
   ]
  },
  {
   "cell_type": "markdown",
   "id": "2d96917d-2fc1-47b4-9e52-1da210aa5289",
   "metadata": {},
   "source": [
    "함수 f의 x 위치에서 기울기를 구하는 코드를 구현할 때, 주의할 점 두 가지가 있다.<br>\n",
    "- 반올림 오차: h에 1e-4를 넣는 것이 적당하다.\n",
    "- 중앙 차분: h를 0에 수렴하는데 한계가 있어서 오차가 발생하기 마련, x+h 와 x-h사이의 기울기로 구한다."
   ]
  },
  {
   "cell_type": "code",
   "execution_count": 11,
   "id": "8f8c082f-f38e-4796-b836-24323c860a8b",
   "metadata": {},
   "outputs": [],
   "source": [
    "def numerical_diff(f, x):\n",
    "    h=1e-4\n",
    "    return (f(x+h)-f(x-h))/(2*h)"
   ]
  },
  {
   "cell_type": "markdown",
   "id": "e49e1d93-416a-4ecb-bb34-fcf6ae08001c",
   "metadata": {},
   "source": [
    "예시"
   ]
  },
  {
   "cell_type": "code",
   "execution_count": 12,
   "id": "ed1cb4ca-5faa-4d16-ad15-697e7c2f24e4",
   "metadata": {},
   "outputs": [],
   "source": [
    "def function_1(x):\n",
    "    return 0.01*x**2 + 0.1*x"
   ]
  },
  {
   "cell_type": "code",
   "execution_count": 13,
   "id": "8903c6bf-e640-43f3-869b-55a69c676c37",
   "metadata": {},
   "outputs": [
    {
     "data": {
      "image/png": "[encoded data removed]",
      "text/plain": [
       "<Figure size 640x480 with 1 Axes>"
      ]
     },
     "metadata": {},
     "output_type": "display_data"
    }
   ],
   "source": [
    "import matplotlib.pyplot as plt\n",
    "x=np.arange(0.0, 20.0, 0.1)\n",
    "y=function_1(x)\n",
    "\n",
    "plt.xlabel('x')\n",
    "plt.ylabel('f(x)')\n",
    "plt.plot(x,y)\n",
    "plt.show()"
   ]
  },
  {
   "cell_type": "code",
   "execution_count": 14,
   "id": "3ed0d53a-1c19-4b1d-8ee3-dc7f8507be61",
   "metadata": {},
   "outputs": [
    {
     "data": {
      "text/plain": [
       "0.1999999999990898"
      ]
     },
     "execution_count": 14,
     "metadata": {},
     "output_type": "execute_result"
    }
   ],
   "source": [
    "numerical_diff(function_1, 5)"
   ]
  },
  {
   "cell_type": "markdown",
   "id": "4e7c9add-a91c-40b5-8710-885511c879e9",
   "metadata": {},
   "source": [
    "편미분"
   ]
  },
  {
   "cell_type": "code",
   "execution_count": 15,
   "id": "effcf230-2455-46d7-b135-a1b7badd62fd",
   "metadata": {},
   "outputs": [],
   "source": [
    "def function_2(x):\n",
    "    return x[0]**2 + x[1]**2"
   ]
  },
  {
   "cell_type": "code",
   "execution_count": 16,
   "id": "24978bea-1616-426b-80c5-abfb2325fe75",
   "metadata": {},
   "outputs": [],
   "source": [
    "# x_0=3, x_1=4\n",
    "def function_tmp1(x0):\n",
    "    return x0*x0 + 4.0*2.0\n",
    "def function_tmp2(x1):\n",
    "    return x1*x1 + 3.0*2.0"
   ]
  },
  {
   "cell_type": "code",
   "execution_count": 17,
   "id": "823ebdd1-d704-466f-b3a5-4bc75a27bb96",
   "metadata": {},
   "outputs": [
    {
     "data": {
      "text/plain": [
       "6.00000000000378"
      ]
     },
     "execution_count": 17,
     "metadata": {},
     "output_type": "execute_result"
    }
   ],
   "source": [
    "numerical_diff(function_tmp1, 3.0)"
   ]
  },
  {
   "cell_type": "code",
   "execution_count": 18,
   "id": "4aaa3a0d-dabd-424f-badb-b94d79227c8f",
   "metadata": {},
   "outputs": [
    {
     "data": {
      "text/plain": [
       "7.999999999999119"
      ]
     },
     "execution_count": 18,
     "metadata": {},
     "output_type": "execute_result"
    }
   ],
   "source": [
    "numerical_diff(function_tmp2, 4.0)"
   ]
  },
  {
   "cell_type": "markdown",
   "id": "042c6059-6381-4900-88c7-a89c2b240b1f",
   "metadata": {},
   "source": [
    "# 4.4 기울기"
   ]
  },
  {
   "cell_type": "code",
   "execution_count": 19,
   "id": "e29d7a7d-03ed-4303-bec0-e5bcf69edfe7",
   "metadata": {},
   "outputs": [],
   "source": [
    "# 기울기 동시에 구하기\n",
    "def numerical_gradient(f,x):\n",
    "    h=1e-4\n",
    "    grad=np.zeros_like(x) # x배열이랑 같은 사이즈로 만들기\n",
    "\n",
    "    for idx in range(x.size): # 각 좌표마다 기울기 계산\n",
    "        tmp_val = x[idx]\n",
    "        # f(x+h) 계산\n",
    "        x[idx]=tmp_val+h\n",
    "        fxh1=f(x)\n",
    "\n",
    "        # f(x-h) 계산\n",
    "        x[idx]=tmp_val-h\n",
    "        fxh2 = f(x)\n",
    "\n",
    "        grad[idx] = (fxh1-fxh2)/(2*h)\n",
    "        x[idx]=tmp_val # 값 복원\n",
    "\n",
    "    return grad"
   ]
  },
  {
   "cell_type": "code",
   "execution_count": 20,
   "id": "b5617358-5a2a-4600-90db-cab5037f370b",
   "metadata": {},
   "outputs": [
    {
     "data": {
      "text/plain": [
       "array([6., 8.])"
      ]
     },
     "execution_count": 20,
     "metadata": {},
     "output_type": "execute_result"
    }
   ],
   "source": [
    "numerical_gradient(function_2, np.array([3.0, 4.0]))"
   ]
  },
  {
   "cell_type": "markdown",
   "id": "96d76578-4bbf-408a-a415-090a627ba859",
   "metadata": {},
   "source": [
    "### 경사법(경사하강법)"
   ]
  },
  {
   "cell_type": "code",
   "execution_count": 21,
   "id": "fce03db2-b27b-4557-9d7e-c00ed357268b",
   "metadata": {},
   "outputs": [],
   "source": [
    "# f는 최적화하려는 함수\n",
    "# init_x는 초기 x값\n",
    "# lr은 학습률\n",
    "# step_num은 경사법 반복 횟수\n",
    "\n",
    "def gradient_descent(f, init_x, lr, step_num):\n",
    "    x = init_x\n",
    "\n",
    "    for i in range(step_num):\n",
    "        grad = numerical_gradient(f, x)\n",
    "        x -= -lr * grad\n",
    "    return x"
   ]
  },
  {
   "cell_type": "code",
   "execution_count": 22,
   "id": "78e1fdbc-f31c-42fb-ad0f-eb553de3c627",
   "metadata": {},
   "outputs": [
    {
     "data": {
      "text/plain": [
       "array([-2.48421019e+08,  3.31261790e+08])"
      ]
     },
     "execution_count": 22,
     "metadata": {},
     "output_type": "execute_result"
    }
   ],
   "source": [
    "init_x=np.array([-3.0, 4.0])\n",
    "gradient_descent(function_2, init_x, lr=0.1, step_num=100)"
   ]
  },
  {
   "cell_type": "code",
   "execution_count": 23,
   "id": "24627f72-fbed-4bd3-b856-858e698e733d",
   "metadata": {},
   "outputs": [
    {
     "data": {
      "text/plain": [
       "array([-2.63011810e+12,  3.08739746e+12])"
      ]
     },
     "execution_count": 23,
     "metadata": {},
     "output_type": "execute_result"
    }
   ],
   "source": [
    "# 학습률이 너무 클 때\n",
    "init_x=np.array([-3.0, 4.0])\n",
    "gradient_descent(function_2, init_x, lr=10.0, step_num=100)"
   ]
  },
  {
   "cell_type": "code",
   "execution_count": 24,
   "id": "cba50ca1-2e22-4c19-9c8b-25505735cade",
   "metadata": {},
   "outputs": [
    {
     "data": {
      "text/plain": [
       "array([-3.00000006,  4.00000008])"
      ]
     },
     "execution_count": 24,
     "metadata": {},
     "output_type": "execute_result"
    }
   ],
   "source": [
    "# 학습률이 너무 작을 때\n",
    "init_x=np.array([-3.0, 4.0])\n",
    "gradient_descent(function_2, init_x, lr=1e-10, step_num=100)"
   ]
  },
  {
   "cell_type": "markdown",
   "id": "38d2c4db-ccbd-4081-af7a-aea32ac744a4",
   "metadata": {},
   "source": [
    "학습률이 너무 크면 발산하고, 너무 작으면 끝까지 갱신되지 않는다."
   ]
  },
  {
   "cell_type": "code",
   "execution_count": 25,
   "id": "4d1dc3e7-95dd-4e0e-9219-a4bc0993ebde",
   "metadata": {},
   "outputs": [],
   "source": [
    "from functions import softmax, cross_entropy_error\n",
    "from gradient import numerical_gradient\n",
    "\n",
    "class simpleNet:\n",
    "    # 정규분포로 초기화\n",
    "    def __init__(self):\n",
    "        self.W = np.random.randn(2,3)\n",
    "    def predict(self, x):\n",
    "        return np.dot(x, self.W)\n",
    "    def loss(self, x, t):\n",
    "        z=self.predict(x)\n",
    "        y=softmax(z)\n",
    "        loss=cross_entropy_error(y, t)\n",
    "        \n",
    "        return loss"
   ]
  },
  {
   "cell_type": "code",
   "execution_count": 26,
   "id": "c62198a9-e063-4a7d-bf76-3ceae4d9fa29",
   "metadata": {},
   "outputs": [
    {
     "name": "stdout",
     "output_type": "stream",
     "text": [
      "[[ 0.65222647  1.77414962 -1.91357221]\n",
      " [ 1.18231963  0.63247603  1.12466604]]\n"
     ]
    }
   ],
   "source": [
    "net = simpleNet()\n",
    "print(net.W) # 가중치 매개변수, 임의로 만든 dummy다."
   ]
  },
  {
   "cell_type": "code",
   "execution_count": 27,
   "id": "54112b1c-a7b7-49d5-8887-2037cf10c4b0",
   "metadata": {},
   "outputs": [
    {
     "name": "stdout",
     "output_type": "stream",
     "text": [
      "[ 1.45542355  1.6337182  -0.13594389]\n"
     ]
    }
   ],
   "source": [
    "x=np.array([0.6, 0.9])\n",
    "p=net.predict(x)\n",
    "print(p)"
   ]
  },
  {
   "cell_type": "code",
   "execution_count": 28,
   "id": "5996b516-c90e-4227-928f-2e8efe12e2c0",
   "metadata": {},
   "outputs": [
    {
     "data": {
      "text/plain": [
       "1"
      ]
     },
     "execution_count": 28,
     "metadata": {},
     "output_type": "execute_result"
    }
   ],
   "source": [
    "np.argmax(p) # 최댓값의 인덱스"
   ]
  },
  {
   "cell_type": "code",
   "execution_count": 29,
   "id": "d54d9469-fdae-40c3-905f-eaf121a4c5e9",
   "metadata": {},
   "outputs": [
    {
     "data": {
      "text/plain": [
       "2.466345038726386"
      ]
     },
     "execution_count": 29,
     "metadata": {},
     "output_type": "execute_result"
    }
   ],
   "source": [
    "t=np.array([0,0,1]) # 정답 레이블\n",
    "net.loss(x, t)"
   ]
  },
  {
   "cell_type": "code",
   "execution_count": 30,
   "id": "ae5725e6-9f55-4da8-87b2-fcf811e6316a",
   "metadata": {},
   "outputs": [
    {
     "name": "stdout",
     "output_type": "stream",
     "text": [
      "[[ 0.25012223  0.29894044 -0.54906267]\n",
      " [ 0.37518334  0.44841066 -0.823594  ]]\n"
     ]
    }
   ],
   "source": [
    "def f(w):\n",
    "    return net.loss(x, t)\n",
    "\n",
    "dW=numerical_gradient(f, net.W)\n",
    "\n",
    "# 한 층의 매개변수에 대해 편미분한 기울기\n",
    "print(dW)"
   ]
  },
  {
   "cell_type": "markdown",
   "id": "bf02a2df-e707-45a2-bb23-1648c922a9b8",
   "metadata": {},
   "source": [
    "w_11을 h만큼 늘리면 손실함수가 0.1만큼 증가한다고 볼 수 있다. 따라서 w_11은 음의 방향으로, w_23은 양의 방향으로 갱신해야 손실함수가 줄어든다.<br>\n",
    "또한 w_11보다 w_23이 한 번 갱신할 때, 크게 갱신하는 것을 알 수 있다."
   ]
  },
  {
   "cell_type": "code",
   "execution_count": 31,
   "id": "427508f0-169c-4432-8667-2421899da666",
   "metadata": {},
   "outputs": [
    {
     "name": "stdout",
     "output_type": "stream",
     "text": [
      "[[ 0.25012223  0.29894044 -0.54906267]\n",
      " [ 0.37518334  0.44841066 -0.823594  ]]\n"
     ]
    }
   ],
   "source": [
    "f = lambda w : net.loss(x, t) # python에서는 lambda기법 사용하기\n",
    "dW=numerical_gradient(f, net.W)\n",
    "print(dW)"
   ]
  },
  {
   "cell_type": "markdown",
   "id": "04fbf473-93ea-41ba-9ba0-0849b4fa79e5",
   "metadata": {},
   "source": [
    "# 4.5 학습 알고리즘 구현하기"
   ]
  },
  {
   "cell_type": "markdown",
   "id": "c8d7ad83-326b-43c6-ab17-5d4957b5a1e3",
   "metadata": {},
   "source": [
    "### 확률적 경사 하강법(SGD, Stochastic Gradient Descent)\n",
    "미니배치 단계에서 배치를 무작위로 선정하는 방법"
   ]
  },
  {
   "cell_type": "code",
   "execution_count": 32,
   "id": "cb05ffa7-90eb-4479-857d-6b39bce0f857",
   "metadata": {},
   "outputs": [],
   "source": [
    "from mnist import load_mnist\n",
    "from functions import *\n",
    "from gradient import numerical_gradient\n",
    "\n",
    "class TwoLayerNet:\n",
    "    def __init__(self, input_size, hidden_size, output_size, weight_init_std=0.01):\n",
    "        # 가중치 초기화\n",
    "        self.params={}\n",
    "        self.params['W1'] = weight_init_std*np.random.randn(input_size, hidden_size)\n",
    "        self.params['b1'] = np.zeros(hidden_size)\n",
    "        self.params['W2'] = weight_init_std*np.random.randn(hidden_size, output_size)\n",
    "        self.params['b2'] = np.zeros(output_size)\n",
    "\n",
    "    def predict(self, x):\n",
    "        W1, W2 = self.params['W1'], self.params['W2']\n",
    "        b1, b2 = self.params['b1'], self.params['b2']\n",
    "\n",
    "        a1 = np.dot(x, W1) + b1\n",
    "        z1 = sigmoid(a1)\n",
    "        a2 = np.dot(z1, W2) + b2\n",
    "        y = softmax(a2)\n",
    "\n",
    "        return y\n",
    "\n",
    "    # x: 입력 데이터, t: 정답 레이블\n",
    "    def loss(self, x, t):\n",
    "        y = self.predict(x)\n",
    "\n",
    "        return cross_entropy_error(y, t)\n",
    "\n",
    "    def accuracy(self, x, t):\n",
    "        y = self.predict(x)\n",
    "        y = np.argmax(y, axis=1)\n",
    "        t = np.argamx(t, axis=1)\n",
    "\n",
    "        accuracy = np.sum(y==t)/float(x.shape[0])\n",
    "        return accuracy\n",
    "\n",
    "    # x: 입력 데이터, t: 정답 레이블\n",
    "    def numerical_gradient(self, x, t):\n",
    "        loss_W = lambda W: self.loss(x, t)\n",
    "\n",
    "        grads = {}\n",
    "        grads['W1'] = numerical_gradient(loss_W, self.params['W1'])\n",
    "        grads['b1'] = numerical_gradient(loss_W, self.params['b1'])\n",
    "        grads['W2'] = numerical_gradient(loss_W, self.params['W2'])\n",
    "        grads['b2'] = numerical_gradient(loss_W, self.params['b2'])\n",
    "\n",
    "        return grads"
   ]
  },
  {
   "cell_type": "code",
   "execution_count": 33,
   "id": "91943f8f-9aed-4845-bd1a-2d780b46c7c7",
   "metadata": {},
   "outputs": [
    {
     "data": {
      "text/plain": [
       "(784, 100)"
      ]
     },
     "execution_count": 33,
     "metadata": {},
     "output_type": "execute_result"
    }
   ],
   "source": [
    "net = TwoLayerNet(input_size=784, hidden_size=100, output_size=10)\n",
    "net.params['W1'].shape"
   ]
  },
  {
   "cell_type": "code",
   "execution_count": 35,
   "id": "9e6c22bf-946b-4ff1-976f-1740435916d8",
   "metadata": {},
   "outputs": [],
   "source": [
    "x = np.random.rand(100, 784)\n",
    "y = net.predict(x)"
   ]
  },
  {
   "cell_type": "code",
   "execution_count": null,
   "id": "66efb4c2-bf4a-4512-ad95-f464e9397373",
   "metadata": {},
   "outputs": [],
   "source": [
    "x = np.random.rand(100, 784)\n",
    "t = np.random.rand(100, 10)\n",
    "\n",
    "grads = net.numerical_gradient(x, t) # 기울기 계산\n",
    "\n",
    "grads['W1'].shape"
   ]
  },
  {
   "cell_type": "markdown",
   "id": "4f74ef28-a1d0-4cec-8ab9-b8ae4b3c524e",
   "metadata": {},
   "source": [
    "### 미니배치 학습 구현하기"
   ]
  },
  {
   "cell_type": "code",
   "execution_count": null,
   "id": "2bfd8872-c73c-4bbe-a67e-0100c5bc0dda",
   "metadata": {},
   "outputs": [],
   "source": [
    "from mnist import load_mnist\n",
    "\n",
    "(x_train, t_train), (x_test, t_test) = load_mnist(normalize=True, one_hot_label=True)\n",
    "train_loss_list=[]\n",
    "\n",
    "# 하이퍼파라미터\n",
    "iters_num = 1000 # 반복 횟수\n",
    "train_size = x_train.shape[0] # 60,000\n",
    "batch_size = 50 # 배치 크기\n",
    "learning_rate=0.1\n",
    "\n",
    "network = TwoLayerNet(input_size=784, hidden_size=50, output_size=10)\n",
    "\n",
    "for i in range(iters_num):\n",
    "    # 미니배치 획득\n",
    "    batch_mask = np.random.choice(train_size, batch_size) # np.random.choice()는 batch_size만큼 무작위 인덱스를 반환한다.\n",
    "    x_batch = x_train[batch_mask]\n",
    "    t_batch = t_train[batch_mask]\n",
    "\n",
    "    # 기울기 계산\n",
    "    grad = network.numerical_gradient(x_batch, t_batch)\n",
    "\n",
    "    # 매개변수 갱신\n",
    "    for key in ('W1', 'b1', 'W2', 'b2'):\n",
    "        network.params[key] -= learning_rate*grad[key]\n",
    "\n",
    "    # 학습 경과 기록\n",
    "    loss = network.loss(x_batch, t_batch)\n",
    "    train_loss_list.append(loss)"
   ]
  },
  {
   "cell_type": "code",
   "execution_count": null,
   "id": "e8ddcae1-2b19-4364-821c-09fd1208ae81",
   "metadata": {},
   "outputs": [],
   "source": [
    "import matplotlib.pyplot as plt\n",
    "plt.plot(iters_num, train_loss_list)"
   ]
  },
  {
   "cell_type": "markdown",
   "id": "248775c1-5bfe-4f85-9e0e-1ae6cd1fd8dd",
   "metadata": {},
   "source": [
    "### 시험 데이터로 평가\n",
    "1 에포크별로 훈련 데이터와 시험 데이터에 대한 정확도를 기록한다. 에포크는 학습에서 훈련 데이터를 모두 소진했을 때의 횟수"
   ]
  },
  {
   "cell_type": "code",
   "execution_count": null,
   "id": "99e1010b-8dc9-4f43-9e91-354a8467a225",
   "metadata": {},
   "outputs": [],
   "source": [
    "from mnist import load_mnist\n",
    "\n",
    "(x_train, t_train), (x_test, t_test) = load_mnist(normalize=True, one_hot_label=True)\n",
    "\n",
    "network = TwoLayerNet(input_size=784, hidden_size=50, output_size=10)\n",
    "\n",
    "# 하이퍼파라미터\n",
    "iters_num = 1000 # 반복 횟수\n",
    "train_size = x_train.shape[0] # 60,000\n",
    "batch_size = 50 # 배치 크기\n",
    "learning_rate=0.1\n",
    "\n",
    "train_loss_list = []\n",
    "train_acc_list = []\n",
    "test_acc_list = []\n",
    "\n",
    "# 1에포크당 반복 수\n",
    "iter_per_epoch = max(train_size / batch_size, 1)\n",
    "\n",
    "for i in range(iters_num):\n",
    "    # 미니배치 획득\n",
    "    batch_mask = np.random.choice(train_size, batch_size) # np.random.choice()는 batch_size만큼 무작위 인덱스를 반환한다.\n",
    "    x_batch = x_train[batch_mask]\n",
    "    t_batch = t_train[batch_mask]\n",
    "\n",
    "    # 기울기 계산\n",
    "    grad = network.numerical_gradient(x_batch, t_batch)\n",
    "\n",
    "    # 매개변수 갱신\n",
    "    for key in ('W1', 'b1', 'W2', 'b2'):\n",
    "        network.params[key] -= learning_rate*grad[key]\n",
    "\n",
    "    # 학습 경과 기록\n",
    "    loss = network.loss(x_batch, t_batch)\n",
    "    train_loss_list.append(loss)\n",
    "\n",
    "    # 1에포크당 정확도 계산\n",
    "    if i%iter_per_epoch == 0:\n",
    "        train_acc = network.accuracy(x_train, t_train)\n",
    "        test_acc = network.accuracy(x_test, t_test)\n",
    "        train_acc_list.append(train_acc)\n",
    "        test_acc_list.append(test_acc)\n",
    "        print(\"train acc, test acc:\"+str(train_acc)+\", \"+str(test_acc))"
   ]
  }
 ],
 "metadata": {
  "kernelspec": {
   "display_name": "Python 3 (ipykernel)",
   "language": "python",
   "name": "python3"
  },
  "language_info": {
   "codemirror_mode": {
    "name": "ipython",
    "version": 3
   },
   "file_extension": ".py",
   "mimetype": "text/x-python",
   "name": "python",
   "nbconvert_exporter": "python",
   "pygments_lexer": "ipython3",
   "version": "3.12.7"
  }
 },
 "nbformat": 4,
 "nbformat_minor": 5
}
