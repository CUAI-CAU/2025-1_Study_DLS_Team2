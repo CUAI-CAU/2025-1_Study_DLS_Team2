{
 "cells": [
  {
   "cell_type": "code",
   "execution_count": null,
   "id": "553d8634-d62e-4542-8c8f-e961697991c7",
   "metadata": {},
   "outputs": [],
   "source": [
    "#퍼셉트론은 딥러닝의 기초가 되는 알고리즘으로 신호의 흐름이다. 흐를 시 1 안 흐를 시에는 0으로 작동한다. \n",
    "#임계값 보다 클 경우 1 작을 경우 0 이다. \n",
    "#입력 신호가 뉴런에 보내질 때는 가중치가 곱해진다. 가중치가 클수록 신호가 더 중요하다는 뜻 \n"
   ]
  },
  {
   "cell_type": "code",
   "execution_count": 1,
   "id": "60c24a54-2f0c-43d6-8598-ea3064882114",
   "metadata": {},
   "outputs": [],
   "source": [
    "# AND GATE (1, 1, 1) 나머지는 다 0 \n",
    "#NAND GATE (1, 1, 0) 나머지는 다 1 (부호를 반전)\n",
    "# OR GATE (0, 0 ,0) 나머지는 다 0\n"
   ]
  },
  {
   "cell_type": "code",
   "execution_count": 2,
   "id": "5ec1442c-a93e-4acb-aa79-ea8ea61ae446",
   "metadata": {},
   "outputs": [],
   "source": [
    "# 퍼셉트론 구현하기 \n",
    "def AND(x1, x2):\n",
    "    w1, w2, theta = 0.5, 0.5, 0.7\n",
    "    tmp = x1 * w1 + x2 * w2\n",
    "    if tmp <= theta:\n",
    "        return 0\n",
    "    elif tmp > theta:\n",
    "        return 1\n",
    "        "
   ]
  },
  {
   "cell_type": "code",
   "execution_count": 5,
   "id": "3e4a3de9-eed7-4448-98ca-990eeffe4b54",
   "metadata": {},
   "outputs": [
    {
     "data": {
      "text/plain": [
       "0"
      ]
     },
     "execution_count": 5,
     "metadata": {},
     "output_type": "execute_result"
    }
   ],
   "source": [
    "AND(0, 0)\n"
   ]
  },
  {
   "cell_type": "code",
   "execution_count": 6,
   "id": "129ba1c1-a619-48f4-8899-6d0c142065b2",
   "metadata": {},
   "outputs": [
    {
     "data": {
      "text/plain": [
       "0"
      ]
     },
     "execution_count": 6,
     "metadata": {},
     "output_type": "execute_result"
    }
   ],
   "source": [
    "AND(1, 0)"
   ]
  },
  {
   "cell_type": "code",
   "execution_count": 7,
   "id": "03c1a6d0-76a3-41dc-880d-0c3eb530c7a8",
   "metadata": {},
   "outputs": [
    {
     "data": {
      "text/plain": [
       "0"
      ]
     },
     "execution_count": 7,
     "metadata": {},
     "output_type": "execute_result"
    }
   ],
   "source": [
    "AND(0, 1)"
   ]
  },
  {
   "cell_type": "code",
   "execution_count": 8,
   "id": "0d3a18d7-0d8e-4c00-9f34-85bcffc0f094",
   "metadata": {},
   "outputs": [
    {
     "data": {
      "text/plain": [
       "1"
      ]
     },
     "execution_count": 8,
     "metadata": {},
     "output_type": "execute_result"
    }
   ],
   "source": [
    "AND(1, 1)"
   ]
  },
  {
   "cell_type": "code",
   "execution_count": 9,
   "id": "bf157b36-1f8f-422c-b7cd-3bfe8bf5a241",
   "metadata": {},
   "outputs": [
    {
     "data": {
      "text/plain": [
       "array([0. , 0.5])"
      ]
     },
     "execution_count": 9,
     "metadata": {},
     "output_type": "execute_result"
    }
   ],
   "source": [
    "#임계값 대신에 편향을 도입해서 퍼셉트론 간단하게 만듬 \n",
    "import numpy as np\n",
    "x = np.array([0, 1])\n",
    "w = np.array([0.5, 0.5])\n",
    "b = -0.7\n",
    "w * x"
   ]
  },
  {
   "cell_type": "code",
   "execution_count": 10,
   "id": "dd2e5016-0975-44fc-8026-28819fb822f0",
   "metadata": {},
   "outputs": [
    {
     "data": {
      "text/plain": [
       "0.5"
      ]
     },
     "execution_count": 10,
     "metadata": {},
     "output_type": "execute_result"
    }
   ],
   "source": [
    "np.sum(w*x)\n"
   ]
  },
  {
   "cell_type": "code",
   "execution_count": 11,
   "id": "2038e23d-b829-42c2-aced-4127bf826776",
   "metadata": {},
   "outputs": [
    {
     "data": {
      "text/plain": [
       "-0.19999999999999996"
      ]
     },
     "execution_count": 11,
     "metadata": {},
     "output_type": "execute_result"
    }
   ],
   "source": [
    "np.sum(w*x) + b"
   ]
  },
  {
   "cell_type": "code",
   "execution_count": 12,
   "id": "42560816-14b8-4593-bd6e-75697eef7d7c",
   "metadata": {},
   "outputs": [],
   "source": [
    "def AND(x1, x2):\n",
    "    x= np.array([x1, x2])\n",
    "    w = np.array([0.5, 0.5])\n",
    "    b = -0.7\n",
    "    tmp = np.sum(w*x) + b\n",
    "    if tmp <=0:\n",
    "        return 0\n",
    "    else:\n",
    "        return 1"
   ]
  },
  {
   "cell_type": "code",
   "execution_count": 13,
   "id": "029fac3f-f670-4666-b657-00d608ad2394",
   "metadata": {},
   "outputs": [],
   "source": [
    "def NAND(x1, x2):\n",
    "    x= np.array([x1, x2])\n",
    "    w = np.array([-0.5, -0.5])\n",
    "    b = 0.7\n",
    "    tmp = np.sum(w*x) + b\n",
    "    if tmp <=0:\n",
    "        return 0\n",
    "    else:\n",
    "        return 1\n",
    "def OR(x1, x2):\n",
    "    x= np.array([x1, x2])\n",
    "    w = np.array([0.5, 0.5])\n",
    "    b= -0.2\n",
    "    tmp = np.sum(w*x) + b\n",
    "    if tmp <=0:\n",
    "        return 0\n",
    "    else:\n",
    "        return 1\n"
   ]
  },
  {
   "cell_type": "code",
   "execution_count": 14,
   "id": "b49f232d-d4bd-42fa-b465-1a322953c208",
   "metadata": {},
   "outputs": [],
   "source": [
    "def XOR(x1, x2):\n",
    "    s1 = NAND(x1, x2)\n",
    "    s2 = OR(x1, x2)\n",
    "    y = AND(s1, s2)\n",
    "    return y\n"
   ]
  },
  {
   "cell_type": "code",
   "execution_count": 15,
   "id": "5ccf934d-a4b3-4447-a140-fb72e3645a30",
   "metadata": {},
   "outputs": [
    {
     "data": {
      "text/plain": [
       "0"
      ]
     },
     "execution_count": 15,
     "metadata": {},
     "output_type": "execute_result"
    }
   ],
   "source": [
    "XOR(0, 0)"
   ]
  },
  {
   "cell_type": "code",
   "execution_count": 16,
   "id": "70b0af50-4d53-4ffe-9f0b-e03ab69b662b",
   "metadata": {},
   "outputs": [
    {
     "data": {
      "text/plain": [
       "1"
      ]
     },
     "execution_count": 16,
     "metadata": {},
     "output_type": "execute_result"
    }
   ],
   "source": [
    "XOR(1, 0)\n"
   ]
  },
  {
   "cell_type": "code",
   "execution_count": 17,
   "id": "dd19be27-93b3-4caf-b1e6-ceb401a0353e",
   "metadata": {},
   "outputs": [
    {
     "data": {
      "text/plain": [
       "1"
      ]
     },
     "execution_count": 17,
     "metadata": {},
     "output_type": "execute_result"
    }
   ],
   "source": [
    "XOR(0, 1)"
   ]
  },
  {
   "cell_type": "code",
   "execution_count": 18,
   "id": "797d0673-979c-446f-98b9-af4b793808fd",
   "metadata": {},
   "outputs": [
    {
     "data": {
      "text/plain": [
       "0"
      ]
     },
     "execution_count": 18,
     "metadata": {},
     "output_type": "execute_result"
    }
   ],
   "source": [
    "XOR(1, 1)"
   ]
  },
  {
   "cell_type": "code",
   "execution_count": null,
   "id": "b128e751-2279-4fb7-baad-cc3a390f7c48",
   "metadata": {},
   "outputs": [],
   "source": []
  }
 ],
 "metadata": {
  "kernelspec": {
   "display_name": "Python 3 (ipykernel)",
   "language": "python",
   "name": "python3"
  },
  "language_info": {
   "codemirror_mode": {
    "name": "ipython",
    "version": 3
   },
   "file_extension": ".py",
   "mimetype": "text/x-python",
   "name": "python",
   "nbconvert_exporter": "python",
   "pygments_lexer": "ipython3",
   "version": "3.12.7"
  }
 },
 "nbformat": 4,
 "nbformat_minor": 5
}
