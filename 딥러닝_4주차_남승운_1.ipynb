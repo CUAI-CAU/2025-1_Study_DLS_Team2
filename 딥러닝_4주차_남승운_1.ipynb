{
 "cells": [
  {
   "cell_type": "markdown",
   "id": "0289b552-6ef4-4205-b0a9-3d854757d6cc",
   "metadata": {},
   "source": [
    "### 소프트맥스 함수"
   ]
  },
  {
   "cell_type": "code",
   "execution_count": 3,
   "id": "32b4233b-13ab-4cc2-9bc0-50b71798a980",
   "metadata": {},
   "outputs": [
    {
     "name": "stdout",
     "output_type": "stream",
     "text": [
      "[ 1.34985881 18.17414537 54.59815003]\n"
     ]
    }
   ],
   "source": [
    "import numpy as np\n",
    "a=np.array([0.3,2.9,4.0])\n",
    "exp_a=np.exp(a)\n",
    "print(exp_a)"
   ]
  },
  {
   "cell_type": "code",
   "execution_count": 7,
   "id": "2c80a57b-f9ef-4498-9718-4a0414433f42",
   "metadata": {},
   "outputs": [
    {
     "name": "stdout",
     "output_type": "stream",
     "text": [
      "74.1221542101633\n"
     ]
    }
   ],
   "source": [
    "sum_exp_a=np.sum(exp_a)\n",
    "print(sum_exp_a)"
   ]
  },
  {
   "cell_type": "code",
   "execution_count": 9,
   "id": "ea3d1b27-bf19-4e9f-a7b7-7915f00511dc",
   "metadata": {},
   "outputs": [
    {
     "name": "stdout",
     "output_type": "stream",
     "text": [
      "[0.01821127 0.24519181 0.73659691]\n"
     ]
    }
   ],
   "source": [
    "y=exp_a/sum_exp_a\n",
    "print(y)"
   ]
  },
  {
   "cell_type": "code",
   "execution_count": 11,
   "id": "f7af0ebf-1912-40cb-9fbb-fbb3d6098bd6",
   "metadata": {},
   "outputs": [],
   "source": [
    "#함수 정의\n",
    "def softmax(a):\n",
    "    exp_a=np.exp(a)\n",
    "    sum_exp_a=np.sum(exp_a)\n",
    "    y=exp_a/sum_exp_a\n",
    "    return y"
   ]
  },
  {
   "cell_type": "code",
   "execution_count": 13,
   "id": "78500cf6-8e60-435c-9484-5e57659bc341",
   "metadata": {},
   "outputs": [
    {
     "name": "stderr",
     "output_type": "stream",
     "text": [
      "C:\\Users\\un747\\AppData\\Local\\Temp\\ipykernel_5648\\351173439.py:3: RuntimeWarning: overflow encountered in exp\n",
      "  np.exp(a)/np.sum(np.exp(a))\n",
      "C:\\Users\\un747\\AppData\\Local\\Temp\\ipykernel_5648\\351173439.py:3: RuntimeWarning: invalid value encountered in divide\n",
      "  np.exp(a)/np.sum(np.exp(a))\n"
     ]
    },
    {
     "data": {
      "text/plain": [
       "array([nan, nan, nan])"
      ]
     },
     "execution_count": 13,
     "metadata": {},
     "output_type": "execute_result"
    }
   ],
   "source": [
    "# overflow 방지\n",
    "a=np.array([1010,1000,990])\n",
    "np.exp(a)/np.sum(np.exp(a))"
   ]
  },
  {
   "cell_type": "code",
   "execution_count": 17,
   "id": "6ca90867-49d4-4f1e-ae21-698df19ae5f1",
   "metadata": {},
   "outputs": [
    {
     "data": {
      "text/plain": [
       "array([9.99954600e-01, 4.53978686e-05, 2.06106005e-09])"
      ]
     },
     "execution_count": 17,
     "metadata": {},
     "output_type": "execute_result"
    }
   ],
   "source": [
    "c=np.max(a)\n",
    "a-c\n",
    "np.exp(a-c)/np.sum(np.exp(a-c))"
   ]
  },
  {
   "cell_type": "code",
   "execution_count": 19,
   "id": "0265255f-c9ea-4693-83f4-791865313e08",
   "metadata": {},
   "outputs": [],
   "source": [
    "def softmax(a):\n",
    "    c=np.max(a)\n",
    "    exp_a=np.exp(a-c)\n",
    "    sum_exp_a=np.sum(exp_a)\n",
    "    y=exp_a/sum_exp_a\n",
    "    return y"
   ]
  },
  {
   "cell_type": "code",
   "execution_count": 21,
   "id": "7fd07269-d514-44c3-96b2-660f0274e977",
   "metadata": {},
   "outputs": [
    {
     "name": "stdout",
     "output_type": "stream",
     "text": [
      "[0.01821127 0.24519181 0.73659691]\n"
     ]
    },
    {
     "data": {
      "text/plain": [
       "1.0"
      ]
     },
     "execution_count": 21,
     "metadata": {},
     "output_type": "execute_result"
    }
   ],
   "source": [
    "a=np.array([0.3,2.9,4.0])\n",
    "y=softmax(a)\n",
    "print(y)\n",
    "np.sum(y) # 출력의 총 합이 1이 됨"
   ]
  },
  {
   "cell_type": "code",
   "execution_count": 29,
   "id": "2547e773-5e71-47d1-b23d-803d23baca15",
   "metadata": {},
   "outputs": [],
   "source": [
    "#데이터셋 가져와야함\n",
    "#import sys, os\n",
    "#sys.path.append(os.pardir)\n",
    "#from dataset.mnist import load_mnist\n",
    "\n",
    "#(x_train, t_train), (x_test, t_test) = \\load_mnist(flatten=True, normalize=False)\n",
    "\n",
    "#print(x_train.shape)\n",
    "#print(t_train.shape)\n",
    "#print(x_test.shape)\n",
    "#print(t_test.shape)"
   ]
  },
  {
   "cell_type": "code",
   "execution_count": 31,
   "id": "2ac4ea80-b7f6-4cc3-8f3e-6b7b454f4393",
   "metadata": {},
   "outputs": [],
   "source": [
    "#데이터셋 필요\n",
    "#import sys, os\n",
    "#sys.path.append(os.pardir)\n",
    "#import numpy as np\n",
    "#from dataset.mnist import load_mnist\n",
    "#from PILimport Image\n",
    "\n",
    "#def img_show(img):\n",
    "#   pil_img=Image.fromarray(np.unit8(img))\n",
    "#   pil_img.show()\n",
    "\n",
    "#(x_train, t_train), (x_test, t_test) = \\load_mnist(flatten=True, normalize=False)\n",
    "\n",
    "#img=x_train[0]\n",
    "#label=t_train[0]\n",
    "#print(label)\n",
    "\n",
    "#print(img.shape)\n",
    "#img=img.reshape(28,28)\n",
    "#print(img.shape)\n",
    "\n",
    "#img_show(img)"
   ]
  },
  {
   "cell_type": "code",
   "execution_count": 33,
   "id": "26fd17c5-0a49-41a4-a0fa-a8fd56dac726",
   "metadata": {},
   "outputs": [],
   "source": [
    "#def get_data():\n",
    "#    (x_train,t_train), (x_test, t_test)=\\load_mnist(normalize=True, flatten=True, one_hot_label=False)\n",
    "#    return x_test, t_test\n",
    "\n",
    "#def init_network():\n",
    "#    with open(\"sample_weight.pkl\", 'rb') as f:\n",
    "#        network=pickle.load(f)\n",
    "\n",
    "#    return network\n",
    "\n",
    "#def predict(network, x):\n",
    "#    w1, w2, w3=network['w1'], network['w2'], network['w3']\n",
    "#    b1, b2, b3=network['b1'], network['b2'], network['b3']\n",
    "\n",
    "#    a1=np.dot(x,w1) + b1\n",
    "#    z1=sigmoid(a1)\n",
    "#    a2=np.dot(z1,w2) + b2\n",
    "#    z2=sigmoid(a2)\n",
    "#    a3=np.dot(z2,w3) + b3\n",
    "#    y=softmax(a3)\n",
    "\n",
    "#    return y"
   ]
  },
  {
   "cell_type": "code",
   "execution_count": 37,
   "id": "2d1ca76f-d0f6-40df-8c86-2c804ab74dba",
   "metadata": {},
   "outputs": [],
   "source": [
    "#x, t = get_data()\n",
    "#network= init_netowrk()\n",
    "\n",
    "#accuracy_cnt=0\n",
    "#for i in range(len(x)):\n",
    "#    y=predict(network, x[i])\n",
    "#    p=np.argmax(y)\n",
    "#    if p==t[i]:\n",
    "#        accuracy_cnt+=1\n",
    "\n",
    "#print(\"Accuracy:\" + str(float(accuracy_cnt)/len(x))"
   ]
  },
  {
   "cell_type": "markdown",
   "id": "48877c51-0df1-44c2-b169-a7dd69eb842f",
   "metadata": {},
   "source": [
    "### 배치 처리"
   ]
  },
  {
   "cell_type": "code",
   "execution_count": 42,
   "id": "6d979e5b-89bc-403e-874c-afb947867696",
   "metadata": {},
   "outputs": [],
   "source": [
    "#x, _ = get_data()\n",
    "#network=init_network()\n",
    "#w1, w2, w3 = network['w1'], network['w2'], network['w3']\n",
    "\n",
    "#x.shape\n",
    "#x[0].shape\n",
    "#w1.shape\n",
    "#w2.shape\n",
    "#w3.shape"
   ]
  },
  {
   "cell_type": "code",
   "execution_count": 44,
   "id": "95a3f252-bcf2-497c-b91b-ca6746908fc2",
   "metadata": {},
   "outputs": [],
   "source": [
    "#x, t= get_data()\n",
    "#network=init_network()\n",
    "\n",
    "#batch_size=100\n",
    "#accuracy_cnt=0\n",
    "\n",
    "#for i in range(0, len(x), batch_size):\n",
    "#    x_batch=x[i:i+batch_size]\n",
    "#    y_natch=predict(network, x_batch)\n",
    "#    p=np.argmax(y_batch, axis=1)\n",
    "#    accuracy_cnt+=np.sum(p==t[i:i+batch_size])\n",
    "\n",
    "#print(\"Accuracy:\" + str(float(accuracy_cnt/len(x))"
   ]
  },
  {
   "cell_type": "code",
   "execution_count": 50,
   "id": "620b61c8-67cb-4c54-8ebb-46bec47551ca",
   "metadata": {},
   "outputs": [
    {
     "data": {
      "text/plain": [
       "[0, 1, 2, 3, 4, 5, 6, 7, 8, 9]"
      ]
     },
     "execution_count": 50,
     "metadata": {},
     "output_type": "execute_result"
    }
   ],
   "source": [
    "list(range(0, 10))"
   ]
  },
  {
   "cell_type": "code",
   "execution_count": 52,
   "id": "5ff62ca6-212b-4cfd-8c7a-dd1fe9c88dd0",
   "metadata": {},
   "outputs": [
    {
     "data": {
      "text/plain": [
       "[0, 3, 6, 9]"
      ]
     },
     "execution_count": 52,
     "metadata": {},
     "output_type": "execute_result"
    }
   ],
   "source": [
    "list(range(0,10,3))"
   ]
  },
  {
   "cell_type": "code",
   "execution_count": 54,
   "id": "8524295b-2800-4576-9896-a995c06c1e9f",
   "metadata": {},
   "outputs": [
    {
     "name": "stdout",
     "output_type": "stream",
     "text": [
      "[1 2 1 0]\n"
     ]
    }
   ],
   "source": [
    "x=np.array([[0.1,0.8,0.1],[0.3,0.1,0.6],[0.2,0.5,0.3],[0.8,0.1,0.1]])\n",
    "y=np.argmax(x,axis=1)\n",
    "print(y)"
   ]
  },
  {
   "cell_type": "code",
   "execution_count": 56,
   "id": "97a2082a-b8e6-4724-9977-fc991407ed5b",
   "metadata": {},
   "outputs": [
    {
     "name": "stdout",
     "output_type": "stream",
     "text": [
      "[ True  True False  True]\n"
     ]
    },
    {
     "data": {
      "text/plain": [
       "3"
      ]
     },
     "execution_count": 56,
     "metadata": {},
     "output_type": "execute_result"
    }
   ],
   "source": [
    "y=np.array([1,2,1,0])\n",
    "t=np.array([1,2,0,0])\n",
    "print(y==t)\n",
    "np.sum(y==t)"
   ]
  },
  {
   "cell_type": "code",
   "execution_count": null,
   "id": "ca9039f8-e9ab-406f-9482-5b38e3c6895c",
   "metadata": {},
   "outputs": [],
   "source": []
  }
 ],
 "metadata": {
  "kernelspec": {
   "display_name": "Python [conda env:base] *",
   "language": "python",
   "name": "conda-base-py"
  },
  "language_info": {
   "codemirror_mode": {
    "name": "ipython",
    "version": 3
   },
   "file_extension": ".py",
   "mimetype": "text/x-python",
   "name": "python",
   "nbconvert_exporter": "python",
   "pygments_lexer": "ipython3",
   "version": "3.12.7"
  }
 },
 "nbformat": 4,
 "nbformat_minor": 5
}
