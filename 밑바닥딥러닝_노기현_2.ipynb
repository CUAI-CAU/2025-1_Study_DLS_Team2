{
 "cells": [
  {
   "cell_type": "markdown",
   "id": "2fab4695-17f1-477e-a9d4-2175a4c94a36",
   "metadata": {},
   "source": [
    "# 퍼셉트론\n",
    "다수의 신호를 입력 받고, 하나의 신호를 출력하는 알고리즘"
   ]
  },
  {
   "cell_type": "markdown",
   "id": "31bdd117-7d8b-4b03-954b-863f3e54487e",
   "metadata": {},
   "source": [
    "## 퍼셉트론 구현하기"
   ]
  },
  {
   "cell_type": "code",
   "execution_count": 1,
   "id": "4c1150ae-8c30-43b4-b2d7-ded6da387e75",
   "metadata": {},
   "outputs": [],
   "source": [
    "def AND(x1, x2):\n",
    "    w1, w2, theta = 0.5, 0.5, 0.7\n",
    "    tmp = x1*w1 + x2*w2\n",
    "    if tmp <= theta:\n",
    "        return 0\n",
    "    elif tmp > theta:\n",
    "        return 1"
   ]
  },
  {
   "cell_type": "code",
   "execution_count": 2,
   "id": "b2edb4e6-2f7d-4452-85d5-ac8c68b45f78",
   "metadata": {},
   "outputs": [
    {
     "data": {
      "text/plain": [
       "1"
      ]
     },
     "execution_count": 2,
     "metadata": {},
     "output_type": "execute_result"
    }
   ],
   "source": [
    "AND(0,0)\n",
    "AND(0,1)\n",
    "AND(1,0)\n",
    "AND(1,1)"
   ]
  },
  {
   "cell_type": "markdown",
   "id": "03bf7eea-f1f9-4f08-a5dd-12f2e876fdd0",
   "metadata": {},
   "source": [
    "### 가중치에 편향 도입"
   ]
  },
  {
   "cell_type": "code",
   "execution_count": 3,
   "id": "a34d6301-bfcb-49f2-8702-e99afaa86776",
   "metadata": {},
   "outputs": [],
   "source": [
    "import numpy as np\n",
    "x=np.array([0,1]) # 입력\n",
    "w=np.array([0.5, 0.5]) # 가중치\n",
    "b=-0.7 # 편향"
   ]
  },
  {
   "cell_type": "code",
   "execution_count": 4,
   "id": "e3dc6555-c29a-40b8-8f61-a06dae31bc27",
   "metadata": {},
   "outputs": [
    {
     "data": {
      "text/plain": [
       "array([0. , 0.5])"
      ]
     },
     "execution_count": 4,
     "metadata": {},
     "output_type": "execute_result"
    }
   ],
   "source": [
    "w*x"
   ]
  },
  {
   "cell_type": "code",
   "execution_count": 5,
   "id": "1e273d51-197d-4136-ab1f-b07159cc3c0e",
   "metadata": {},
   "outputs": [
    {
     "data": {
      "text/plain": [
       "0.5"
      ]
     },
     "execution_count": 5,
     "metadata": {},
     "output_type": "execute_result"
    }
   ],
   "source": [
    "np.sum(w*x)"
   ]
  },
  {
   "cell_type": "code",
   "execution_count": 6,
   "id": "b8f88a1b-5f6a-4a5d-b4e6-e96983b5c63c",
   "metadata": {},
   "outputs": [
    {
     "data": {
      "text/plain": [
       "-0.19999999999999996"
      ]
     },
     "execution_count": 6,
     "metadata": {},
     "output_type": "execute_result"
    }
   ],
   "source": [
    "np.sum(w*x)+b"
   ]
  },
  {
   "cell_type": "markdown",
   "id": "d9407da2-7a4c-4602-b7cc-7e2ce998532a",
   "metadata": {},
   "source": [
    "### 가중치에 편향 구현하기 "
   ]
  },
  {
   "cell_type": "code",
   "execution_count": 7,
   "id": "6422a192-1a89-4208-ae51-08779b21fd9b",
   "metadata": {},
   "outputs": [],
   "source": [
    "def AND(x1, x2):\n",
    "    x=np.array([x1,x2])\n",
    "    w=np.array([0.5, 0.5])\n",
    "    b=-0.7\n",
    "    tmp=np.sum(x*w)+b\n",
    "    if tmp<=0:\n",
    "        return 0\n",
    "    elif tmp >0:\n",
    "        return 1"
   ]
  },
  {
   "cell_type": "code",
   "execution_count": 8,
   "id": "05c6d808-32a6-4b71-a3bf-a7adc655dff3",
   "metadata": {},
   "outputs": [
    {
     "data": {
      "text/plain": [
       "0"
      ]
     },
     "execution_count": 8,
     "metadata": {},
     "output_type": "execute_result"
    }
   ],
   "source": [
    "AND(0,0)"
   ]
  },
  {
   "cell_type": "markdown",
   "id": "2193135f-4f62-49bd-a72a-2545b352430b",
   "metadata": {},
   "source": [
    "NAND게이트와 OR게이트"
   ]
  },
  {
   "cell_type": "code",
   "execution_count": 9,
   "id": "a52719f1-050d-4ef8-b947-ffa1b3cb0c76",
   "metadata": {},
   "outputs": [],
   "source": [
    "def NAND(x1,x2):\n",
    "    x=np.array([x1,x2])\n",
    "    w=np.array([-0.5, -0.5]) # AND게이트와 가중치와 편향만 다르다.\n",
    "    b=0.7\n",
    "    tmp = np.sum(w*x)+b\n",
    "    if tmp<=0:\n",
    "        return 0\n",
    "    elif tmp >0:\n",
    "        return 1"
   ]
  },
  {
   "cell_type": "code",
   "execution_count": 10,
   "id": "d3dbf9e3-2b5b-4613-ac2f-5ec1b5507cef",
   "metadata": {},
   "outputs": [],
   "source": [
    "def OR(x1,x2):\n",
    "    x=np.array([x1,x2])\n",
    "    w=np.array([0.5, 0.5]) # AND게이트와 가중치와 편향만 다르다.\n",
    "    b=0.2\n",
    "    tmp = np.sum(w*x)+b\n",
    "    if tmp<=0:\n",
    "        return 0\n",
    "    elif tmp >0:\n",
    "        return 1"
   ]
  },
  {
   "cell_type": "markdown",
   "id": "20f5183f-151b-49ae-9ee1-d70c3b1dc24e",
   "metadata": {},
   "source": [
    "AND, NAND, OR는 모두 같은 구조의 퍼셉트론, 다른 가중치와 편향"
   ]
  },
  {
   "cell_type": "markdown",
   "id": "f2bcdc2a-6b17-4c3b-8786-e777a6ee7792",
   "metadata": {},
   "source": [
    "## 퍼셉트론의 한계"
   ]
  },
  {
   "cell_type": "markdown",
   "id": "98778926-4968-4f41-ae37-053686906270",
   "metadata": {},
   "source": [
    "위에서 만든 구조의 퍼셉트론만으로는 XOR게이트를 구현할 수 없으며, 서로 조합해서 만들어야한다. <br>다시 말해, 단층구조로는 비선형 영역을 표현할 수 없다."
   ]
  },
  {
   "cell_type": "code",
   "execution_count": 11,
   "id": "cbe65a00-b40f-4976-af6f-540a09d0f604",
   "metadata": {},
   "outputs": [],
   "source": [
    "def XOR(x1, x2):\n",
    "    s1 = NAND(x1, x2)\n",
    "    s2 = OR(x1, x2)\n",
    "    y = AND(s1, s2)\n",
    "    return y"
   ]
  },
  {
   "cell_type": "code",
   "execution_count": 12,
   "id": "77809067-e6a8-4163-8c28-a0b94beae5c4",
   "metadata": {},
   "outputs": [
    {
     "data": {
      "text/plain": [
       "1"
      ]
     },
     "execution_count": 12,
     "metadata": {},
     "output_type": "execute_result"
    }
   ],
   "source": [
    "XOR(1,0)"
   ]
  },
  {
   "cell_type": "markdown",
   "id": "b660b58a-9ab7-45ee-9559-02636ee127bf",
   "metadata": {},
   "source": [
    "이와 같은 구조를 '다층 구조'라고 하며, 방금 XOR 퍼셉트론은 2층 퍼셉트론이다."
   ]
  }
 ],
 "metadata": {
  "kernelspec": {
   "display_name": "Python 3 (ipykernel)",
   "language": "python",
   "name": "python3"
  },
  "language_info": {
   "codemirror_mode": {
    "name": "ipython",
    "version": 3
   },
   "file_extension": ".py",
   "mimetype": "text/x-python",
   "name": "python",
   "nbconvert_exporter": "python",
   "pygments_lexer": "ipython3",
   "version": "3.12.7"
  }
 },
 "nbformat": 4,
 "nbformat_minor": 5
}
