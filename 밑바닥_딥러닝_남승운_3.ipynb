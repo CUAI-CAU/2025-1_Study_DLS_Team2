{
 "cells": [
  {
   "cell_type": "markdown",
   "id": "27be4ad2-d37b-4509-993d-640799f9f3d9",
   "metadata": {},
   "source": [
    "### 신경망"
   ]
  },
  {
   "cell_type": "code",
   "execution_count": 3,
   "id": "0ac090b4-3e3a-4cc7-bbdd-198d4aedff33",
   "metadata": {},
   "outputs": [],
   "source": [
    "# 계단 함수 -> x가 0보다 크면 1 반환 이외에는 0\n",
    "def step_function1(x):\n",
    "    if x>0:\n",
    "        return 1\n",
    "    else:\n",
    "        return 0"
   ]
  },
  {
   "cell_type": "code",
   "execution_count": 21,
   "id": "8231ef98-cc20-4b87-b4ff-9e151870ccde",
   "metadata": {},
   "outputs": [],
   "source": [
    "def step_function2(x):\n",
    "    y=x>0\n",
    "    return y.astype(int) # False면 0, True면 1"
   ]
  },
  {
   "cell_type": "code",
   "execution_count": 9,
   "id": "139de281-e3cf-42e0-93d1-192460630b87",
   "metadata": {},
   "outputs": [
    {
     "data": {
      "text/plain": [
       "(array([-1.,  1.,  2.]), array([False,  True,  True]))"
      ]
     },
     "execution_count": 9,
     "metadata": {},
     "output_type": "execute_result"
    }
   ],
   "source": [
    "import numpy as np\n",
    "x= np.array([-1.0, 1.0, 2.0])\n",
    "y=x>0\n",
    "x,y"
   ]
  },
  {
   "cell_type": "code",
   "execution_count": 19,
   "id": "12a142df-987a-4dd5-b909-f2473e65787a",
   "metadata": {},
   "outputs": [
    {
     "data": {
      "text/plain": [
       "array([0, 1, 1])"
      ]
     },
     "execution_count": 19,
     "metadata": {},
     "output_type": "execute_result"
    }
   ],
   "source": [
    "y=y.astype(int)\n",
    "y"
   ]
  },
  {
   "cell_type": "code",
   "execution_count": 25,
   "id": "6e491028-d10c-4e43-95fe-943dca717358",
   "metadata": {},
   "outputs": [
    {
     "data": {
      "image/png": "[encoded data removed]",
      "text/plain": [
       "<Figure size 640x480 with 1 Axes>"
      ]
     },
     "metadata": {},
     "output_type": "display_data"
    }
   ],
   "source": [
    "import matplotlib.pylab as plt\n",
    "\n",
    "def step_function3(x):\n",
    "    return np.array(x>0, dtype=int)\n",
    "\n",
    "x=np.arange(-5.0, 5.0, 0.1)\n",
    "y=step_function3(x)\n",
    "plt.plot(x,y)\n",
    "plt.ylim(-0.1,1.1)\n",
    "plt.show()"
   ]
  },
  {
   "cell_type": "markdown",
   "id": "388c6ec6-2a98-4d34-a8d5-cd33c7b3bf1f",
   "metadata": {},
   "source": [
    "### sigmoid func"
   ]
  },
  {
   "cell_type": "code",
   "execution_count": 28,
   "id": "64220fd7-9e8d-45ae-a066-ae919587dd73",
   "metadata": {},
   "outputs": [],
   "source": [
    "def sigmoid(x):\n",
    "    return 1/(1+np.exp(-x))"
   ]
  },
  {
   "cell_type": "code",
   "execution_count": 32,
   "id": "eca8b7bf-1d22-461c-886a-1066a6502b8d",
   "metadata": {},
   "outputs": [
    {
     "data": {
      "text/plain": [
       "array([0.26894142, 0.73105858, 0.88079708])"
      ]
     },
     "execution_count": 32,
     "metadata": {},
     "output_type": "execute_result"
    }
   ],
   "source": [
    "x=np.array([-1.0, 1.0, 2.0])\n",
    "sigmoid(x)"
   ]
  },
  {
   "cell_type": "code",
   "execution_count": 34,
   "id": "bfbf2597-2064-4d8d-8b5f-e269292939e2",
   "metadata": {},
   "outputs": [
    {
     "data": {
      "text/plain": [
       "(array([2., 3., 4.]), array([1.        , 0.5       , 0.33333333]))"
      ]
     },
     "execution_count": 34,
     "metadata": {},
     "output_type": "execute_result"
    }
   ],
   "source": [
    "t=np.array([1.0,2.0,3.0])\n",
    "1.0+t, 1.0/t"
   ]
  },
  {
   "cell_type": "markdown",
   "id": "e6ed7c45-86f7-4c79-8a6c-1fd737453007",
   "metadata": {},
   "source": [
    "x=np.arange(-5.0,5.0,0.1)\n",
    "y=sigmoid(x)\n",
    "plt.plot(x,y)\n",
    "plt.ylim(-0.1, 1.1)\n",
    "plt.show()"
   ]
  },
  {
   "cell_type": "markdown",
   "id": "dd6a096e-615b-45ef-88b0-db074a7ec3f6",
   "metadata": {},
   "source": [
    "### ReLU func"
   ]
  },
  {
   "cell_type": "code",
   "execution_count": 41,
   "id": "812f3d63-f25d-44b6-b01b-f9282f6a3b13",
   "metadata": {},
   "outputs": [],
   "source": [
    "def relu(x):\n",
    "    return np.maximun(0,x)"
   ]
  },
  {
   "cell_type": "markdown",
   "id": "f8e12e9b-90c8-4e63-9f00-5d912fbabc30",
   "metadata": {},
   "source": [
    "### mult dim arr"
   ]
  },
  {
   "cell_type": "code",
   "execution_count": 48,
   "id": "4ae84736-a4dc-426d-9569-51d0708160fb",
   "metadata": {},
   "outputs": [
    {
     "name": "stdout",
     "output_type": "stream",
     "text": [
      "[1 2 3 4]\n"
     ]
    },
    {
     "data": {
      "text/plain": [
       "(1, (4,), 4)"
      ]
     },
     "execution_count": 48,
     "metadata": {},
     "output_type": "execute_result"
    }
   ],
   "source": [
    "A=np.array([1,2,3,4])\n",
    "print(A)\n",
    "np.ndim(A), A.shape, A.shape[0]"
   ]
  },
  {
   "cell_type": "code",
   "execution_count": 50,
   "id": "e7326e12-1419-45a5-b31f-ae0abc6f37e2",
   "metadata": {},
   "outputs": [
    {
     "name": "stdout",
     "output_type": "stream",
     "text": [
      "[[1 2]\n",
      " [3 4]\n",
      " [5 6]]\n"
     ]
    },
    {
     "data": {
      "text/plain": [
       "(2, (3, 2))"
      ]
     },
     "execution_count": 50,
     "metadata": {},
     "output_type": "execute_result"
    }
   ],
   "source": [
    "B=np.array([[1,2],[3,4],[5,6]])\n",
    "print(B)\n",
    "np.ndim(B), B.shape"
   ]
  },
  {
   "cell_type": "code",
   "execution_count": 52,
   "id": "4df82e71-8643-4833-9627-18c6b5c9b37b",
   "metadata": {},
   "outputs": [
    {
     "data": {
      "text/plain": [
       "(2, 2)"
      ]
     },
     "execution_count": 52,
     "metadata": {},
     "output_type": "execute_result"
    }
   ],
   "source": [
    "A=np.array([[1,2],[3,4]])\n",
    "A.shape"
   ]
  },
  {
   "cell_type": "code",
   "execution_count": 54,
   "id": "5bd4d2e7-fc1e-41a1-82f5-a12301146b49",
   "metadata": {},
   "outputs": [
    {
     "data": {
      "text/plain": [
       "(2, 2)"
      ]
     },
     "execution_count": 54,
     "metadata": {},
     "output_type": "execute_result"
    }
   ],
   "source": [
    "B=np.array([[5,6],[7,8]])\n",
    "B.shape"
   ]
  },
  {
   "cell_type": "code",
   "execution_count": 56,
   "id": "851b88df-5032-4a76-adb7-0ed8dc717868",
   "metadata": {},
   "outputs": [
    {
     "data": {
      "text/plain": [
       "array([[19, 22],\n",
       "       [43, 50]])"
      ]
     },
     "execution_count": 56,
     "metadata": {},
     "output_type": "execute_result"
    }
   ],
   "source": [
    "np.dot(A,B)"
   ]
  },
  {
   "cell_type": "code",
   "execution_count": 58,
   "id": "f93f6219-dc5b-4ce0-ad31-f56eab0b7d94",
   "metadata": {},
   "outputs": [
    {
     "data": {
      "text/plain": [
       "(2, 3)"
      ]
     },
     "execution_count": 58,
     "metadata": {},
     "output_type": "execute_result"
    }
   ],
   "source": [
    "A=np.array([[1,2,3],[4,5,6]])\n",
    "A.shape"
   ]
  },
  {
   "cell_type": "code",
   "execution_count": 62,
   "id": "2bc37c80-7e58-4103-94be-e6a07411ab32",
   "metadata": {},
   "outputs": [
    {
     "data": {
      "text/plain": [
       "(3, 2)"
      ]
     },
     "execution_count": 62,
     "metadata": {},
     "output_type": "execute_result"
    }
   ],
   "source": [
    "B=np.array([[1,2],[3,4],[5,6]])\n",
    "B.shape"
   ]
  },
  {
   "cell_type": "code",
   "execution_count": 64,
   "id": "e9b6abb8-006d-4281-8150-6015ca59308a",
   "metadata": {},
   "outputs": [
    {
     "data": {
      "text/plain": [
       "array([[22, 28],\n",
       "       [49, 64]])"
      ]
     },
     "execution_count": 64,
     "metadata": {},
     "output_type": "execute_result"
    }
   ],
   "source": [
    "np.dot(A,B)"
   ]
  },
  {
   "cell_type": "code",
   "execution_count": 66,
   "id": "38ad6016-f9bb-4aea-baba-ebd667246c42",
   "metadata": {},
   "outputs": [
    {
     "data": {
      "text/plain": [
       "(2, 2)"
      ]
     },
     "execution_count": 66,
     "metadata": {},
     "output_type": "execute_result"
    }
   ],
   "source": [
    "C=np.array([[1,2],[3,4]])\n",
    "C.shape"
   ]
  },
  {
   "cell_type": "code",
   "execution_count": 68,
   "id": "d0c0a309-e279-4150-97b5-728ede45e6c9",
   "metadata": {},
   "outputs": [
    {
     "data": {
      "text/plain": [
       "(2, 3)"
      ]
     },
     "execution_count": 68,
     "metadata": {},
     "output_type": "execute_result"
    }
   ],
   "source": [
    "A.shape"
   ]
  },
  {
   "cell_type": "code",
   "execution_count": 70,
   "id": "4a10b00e-5743-4722-856f-de4faa44d8d2",
   "metadata": {},
   "outputs": [
    {
     "ename": "ValueError",
     "evalue": "shapes (2,3) and (2,2) not aligned: 3 (dim 1) != 2 (dim 0)",
     "output_type": "error",
     "traceback": [
      "\u001b[1;31m---------------------------------------------------------------------------\u001b[0m",
      "\u001b[1;31mValueError\u001b[0m                                Traceback (most recent call last)",
      "Cell \u001b[1;32mIn[70], line 1\u001b[0m\n\u001b[1;32m----> 1\u001b[0m np\u001b[38;5;241m.\u001b[39mdot(A,C)\n",
      "\u001b[1;31mValueError\u001b[0m: shapes (2,3) and (2,2) not aligned: 3 (dim 1) != 2 (dim 0)"
     ]
    }
   ],
   "source": [
    "np.dot(A,C) # error"
   ]
  },
  {
   "cell_type": "code",
   "execution_count": 72,
   "id": "8144859d-b6d6-4371-a610-ed362deb4138",
   "metadata": {},
   "outputs": [
    {
     "data": {
      "text/plain": [
       "array([23, 53, 83])"
      ]
     },
     "execution_count": 72,
     "metadata": {},
     "output_type": "execute_result"
    }
   ],
   "source": [
    "A=np.array([[1,2],[3,4],[5,6]])\n",
    "B=np.array([7,8])\n",
    "np.dot(A,B)"
   ]
  },
  {
   "cell_type": "code",
   "execution_count": 78,
   "id": "6d3ee44d-6a3c-407c-a38a-0fd9b4de8a00",
   "metadata": {},
   "outputs": [
    {
     "name": "stdout",
     "output_type": "stream",
     "text": [
      "[[1 3 5]\n",
      " [2 4 6]]\n",
      "[ 5 11 17]\n"
     ]
    }
   ],
   "source": [
    "X=np.array([1,2])\n",
    "W=np.array([[1,3,5],[2,4,6]])\n",
    "print(W)\n",
    "Y=np.dot(X,W)\n",
    "print(Y)"
   ]
  },
  {
   "cell_type": "markdown",
   "id": "919d5e87-d393-42be-a8d3-cefd481d5adc",
   "metadata": {},
   "source": [
    "### 3층 신경망"
   ]
  },
  {
   "cell_type": "code",
   "execution_count": 81,
   "id": "1c982952-ee3c-4627-adef-600ef34ea991",
   "metadata": {},
   "outputs": [
    {
     "name": "stdout",
     "output_type": "stream",
     "text": [
      "(2, 3)\n",
      "(2,)\n",
      "(3,)\n"
     ]
    }
   ],
   "source": [
    "X=np.array([1.0,0.5])\n",
    "W1=np.array([[0.1,0.3,0.5],[0.2,0.4,0.6]])\n",
    "B1=np.array([0.1,0.2,0.3])\n",
    "\n",
    "print(W1.shape)\n",
    "print(X.shape)\n",
    "print(B1.shape)\n",
    "\n",
    "A1=np.dot(X,W1)+B1"
   ]
  },
  {
   "cell_type": "code",
   "execution_count": 83,
   "id": "f1f5e684-5851-407b-a777-312ab4b27ea0",
   "metadata": {},
   "outputs": [
    {
     "name": "stdout",
     "output_type": "stream",
     "text": [
      "[0.3 0.7 1.1]\n",
      "[0.57444252 0.66818777 0.75026011]\n"
     ]
    }
   ],
   "source": [
    "Z1=sigmoid(A1)\n",
    "\n",
    "print(A1)\n",
    "print(Z1)"
   ]
  },
  {
   "cell_type": "code",
   "execution_count": 87,
   "id": "752ddd3b-aeae-4cfc-acb0-086894528b73",
   "metadata": {},
   "outputs": [
    {
     "name": "stdout",
     "output_type": "stream",
     "text": [
      "(3,)\n",
      "(3, 2)\n",
      "(2,)\n"
     ]
    }
   ],
   "source": [
    "W2=np.array([[0.1,0.4],[0.2,0.5],[0.3,0.6]])\n",
    "B2=np.array([0.1,0.2])\n",
    "\n",
    "print(Z1.shape)\n",
    "print(W2.shape)\n",
    "print(B2.shape)\n",
    "\n",
    "A2=np.dot(Z1,W2)+B2\n",
    "Z2=sigmoid(A2)"
   ]
  },
  {
   "cell_type": "code",
   "execution_count": 89,
   "id": "179d245d-4c8d-4988-a5ff-20e580ba61ce",
   "metadata": {},
   "outputs": [],
   "source": [
    "def identity_function(x):\n",
    "    return x\n",
    "\n",
    "W3=np.array([[0.1,0.3],[0.2,0.4]])\n",
    "B3=np.array([0.1,0.2])\n",
    "\n",
    "A3=np.dot(Z2,W3)+B3\n",
    "Y=identity_function(A3)"
   ]
  },
  {
   "cell_type": "code",
   "execution_count": 91,
   "id": "89b0cb33-263e-43d6-8621-4fda59ef6906",
   "metadata": {},
   "outputs": [
    {
     "name": "stdout",
     "output_type": "stream",
     "text": [
      "[0.31682708 0.69627909]\n"
     ]
    }
   ],
   "source": [
    "def init_network():\n",
    "    network={}\n",
    "    network['W1']=np.array([[0.1,0.3,0.5],[0.2,0.4,0.6]])\n",
    "    network['b1']=np.array([0.1,0.2,0.3])\n",
    "    network['W2']=np.array([[0.1,0.4],[0.2,0.5],[0.3,0.6]])\n",
    "    network['b2']=np.array([0.1,0.2])\n",
    "    network['W3']=np.array([[0.1,0.3],[0.2,0.4]])\n",
    "    network['b3']=np.array([0.1,0.2])\n",
    "\n",
    "    return network\n",
    "\n",
    "def forward(network, x):\n",
    "    W1, W2, W3=network['W1'], network['W2'], network['W3']\n",
    "    b1, b2, b3=network['b1'], network['b2'], network['b3']\n",
    "\n",
    "    a1=np.dot(x,W1) + b1\n",
    "    z1=sigmoid(a1)\n",
    "    a2=np.dot(z1,W2)+b2\n",
    "    z2=sigmoid(a2)\n",
    "    a3=np.dot(z2,W3)+b3\n",
    "    y=identity_function(a3)\n",
    "\n",
    "    return y\n",
    "\n",
    "network=init_network()\n",
    "x=np.array([1.0,0.5])\n",
    "y=forward(network, x)\n",
    "print(y)"
   ]
  },
  {
   "cell_type": "code",
   "execution_count": null,
   "id": "890ea599-872f-42f0-b8f5-0aed20921800",
   "metadata": {},
   "outputs": [],
   "source": []
  }
 ],
 "metadata": {
  "kernelspec": {
   "display_name": "Python [conda env:base] *",
   "language": "python",
   "name": "conda-base-py"
  },
  "language_info": {
   "codemirror_mode": {
    "name": "ipython",
    "version": 3
   },
   "file_extension": ".py",
   "mimetype": "text/x-python",
   "name": "python",
   "nbconvert_exporter": "python",
   "pygments_lexer": "ipython3",
   "version": "3.12.7"
  }
 },
 "nbformat": 4,
 "nbformat_minor": 5
}
